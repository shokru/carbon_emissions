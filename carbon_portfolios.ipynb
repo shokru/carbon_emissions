{
  "cells": [
    {
      "attachments": {},
      "cell_type": "markdown",
      "metadata": {
        "colab_type": "text",
        "id": "view-in-github"
      },
      "source": [
        "<a href=\"https://colab.research.google.com/github/shokru/carbon_emissions/blob/main/carbon_portfolios.ipynb\" target=\"_parent\"><img src=\"https://colab.research.google.com/assets/colab-badge.svg\" alt=\"Open In Colab\"/></a>"
      ]
    },
    {
      "attachments": {},
      "cell_type": "markdown",
      "metadata": {
        "id": "ZHEY0e6l-4aX"
      },
      "source": [
        "# Firm-specific emissions and portfolio analysis\n",
        "\n",
        "This notebook presents data on corporate emissions and shows what can happen if they are taken into account in a framework of **modern portfolio theory**.\n",
        "\n",
        "### Libraries & data"
      ]
    },
    {
      "cell_type": "code",
      "execution_count": 1,
      "metadata": {
        "id": "MRqPllzq-z1l"
      },
      "outputs": [],
      "source": [
        "import pandas as pd\n",
        "import math\n",
        "import numpy as np                       # For vector/matrix manipulation\n",
        "from numpy.linalg import inv             # For matrix inversion\n",
        "import seaborn as sns                    # This is one library for plotting\n",
        "import matplotlib.pyplot as plt          # Yet another library for visualization\n",
        "import plotly.express as px              # For dynamic plots\n",
        "pd.set_option('display.max_rows', 6)     # First 3 and last 3 rows will be shown"
      ]
    },
    {
      "attachments": {},
      "cell_type": "markdown",
      "metadata": {
        "id": "4Wbr3Rnh_Lzf"
      },
      "source": [
        "\n",
        "We downloaded data for the following firms (except Apple - to be corrected): \n",
        "\n",
        "|A - F| G - M |O - Z|\n",
        "| --- | ----- | --- |\n",
        "| AAPL (Apple)| GE (General Electric) | ORCL (Oracle)\n",
        "| BA (Boeing) | HD (Home Depot) | PFE (Pfizer)\n",
        "| BAC (Bank of America) | IBM | PG (Procter & Gamble)\n",
        "| C (Citigroup) | INTC (Intel) | T (AT&T)\n",
        "|CSCO (Cisco) | JNJ (Johnson & Johnson) |  UNH (United Health)\n",
        "|CVS (CVS Health) | JPM (JP Morgan) | UPS \n",
        "|CVX (Chevron) | K (Kellogg) | VZ (Verizon)\n",
        "|D (Dominion Energy) | MCK (McKesson) | WFC (Wells Fargo)\n",
        "|DIS (Disney) | MRK (Merck) | WMT (Walmart)\n",
        "|F (Ford) | MSFT (Microsoft) | XOM (Exxon)\n",
        "\n",
        "The data is stored in a .xlsx file on **Github**.  \n",
        "We move toward the coding part & start by loading the libraries/packages/modules.\n",
        "\n"
      ]
    },
    {
      "cell_type": "code",
      "execution_count": 2,
      "metadata": {
        "colab": {
          "base_uri": "https://localhost:8080/",
          "height": 295
        },
        "id": "9jnAVnUB_TUI",
        "outputId": "d47dba40-fd39-4201-ad92-e01e1e01ed92"
      },
      "outputs": [
        {
          "data": {
            "text/html": [
              "<div>\n",
              "<style scoped>\n",
              "    .dataframe tbody tr th:only-of-type {\n",
              "        vertical-align: middle;\n",
              "    }\n",
              "\n",
              "    .dataframe tbody tr th {\n",
              "        vertical-align: top;\n",
              "    }\n",
              "\n",
              "    .dataframe thead th {\n",
              "        text-align: right;\n",
              "    }\n",
              "</style>\n",
              "<table border=\"1\" class=\"dataframe\">\n",
              "  <thead>\n",
              "    <tr style=\"text-align: right;\">\n",
              "      <th></th>\n",
              "      <th>Company</th>\n",
              "      <th>Date</th>\n",
              "      <th>Price</th>\n",
              "      <th>Mkt_cap</th>\n",
              "      <th>Energy_consumption</th>\n",
              "      <th>GHG_scope_3</th>\n",
              "      <th>GHG_total</th>\n",
              "      <th>Return</th>\n",
              "      <th>Year</th>\n",
              "    </tr>\n",
              "  </thead>\n",
              "  <tbody>\n",
              "    <tr>\n",
              "      <th>0</th>\n",
              "      <td>AAPL</td>\n",
              "      <td>2005-12-30</td>\n",
              "      <td>2.2050</td>\n",
              "      <td>60586.5831</td>\n",
              "      <td>NaN</td>\n",
              "      <td>NaN</td>\n",
              "      <td>NaN</td>\n",
              "      <td>1.232609</td>\n",
              "      <td>2005</td>\n",
              "    </tr>\n",
              "    <tr>\n",
              "      <th>1</th>\n",
              "      <td>AAPL</td>\n",
              "      <td>2006-12-29</td>\n",
              "      <td>2.6020</td>\n",
              "      <td>72900.7792</td>\n",
              "      <td>NaN</td>\n",
              "      <td>NaN</td>\n",
              "      <td>NaN</td>\n",
              "      <td>0.180136</td>\n",
              "      <td>2006</td>\n",
              "    </tr>\n",
              "    <tr>\n",
              "      <th>2</th>\n",
              "      <td>AAPL</td>\n",
              "      <td>2007-12-31</td>\n",
              "      <td>6.0740</td>\n",
              "      <td>173427.0193</td>\n",
              "      <td>265.684</td>\n",
              "      <td>NaN</td>\n",
              "      <td>NaN</td>\n",
              "      <td>1.334748</td>\n",
              "      <td>2007</td>\n",
              "    </tr>\n",
              "    <tr>\n",
              "      <th>...</th>\n",
              "      <td>...</td>\n",
              "      <td>...</td>\n",
              "      <td>...</td>\n",
              "      <td>...</td>\n",
              "      <td>...</td>\n",
              "      <td>...</td>\n",
              "      <td>...</td>\n",
              "      <td>...</td>\n",
              "      <td>...</td>\n",
              "    </tr>\n",
              "    <tr>\n",
              "      <th>486</th>\n",
              "      <td>XOM</td>\n",
              "      <td>2018-12-31</td>\n",
              "      <td>57.5328</td>\n",
              "      <td>288703.3109</td>\n",
              "      <td>416667.000</td>\n",
              "      <td>NaN</td>\n",
              "      <td>127000.0</td>\n",
              "      <td>-0.151017</td>\n",
              "      <td>2018</td>\n",
              "    </tr>\n",
              "    <tr>\n",
              "      <th>487</th>\n",
              "      <td>XOM</td>\n",
              "      <td>2019-12-31</td>\n",
              "      <td>61.6941</td>\n",
              "      <td>295246.5813</td>\n",
              "      <td>416667.000</td>\n",
              "      <td>730000.0</td>\n",
              "      <td>123000.0</td>\n",
              "      <td>0.072517</td>\n",
              "      <td>2019</td>\n",
              "    </tr>\n",
              "    <tr>\n",
              "      <th>488</th>\n",
              "      <td>XOM</td>\n",
              "      <td>2020-12-31</td>\n",
              "      <td>39.3540</td>\n",
              "      <td>174287.8102</td>\n",
              "      <td>416667.000</td>\n",
              "      <td>730000.0</td>\n",
              "      <td>123000.0</td>\n",
              "      <td>-0.362131</td>\n",
              "      <td>2020</td>\n",
              "    </tr>\n",
              "  </tbody>\n",
              "</table>\n",
              "<p>489 rows × 9 columns</p>\n",
              "</div>"
            ],
            "text/plain": [
              "    Company       Date    Price      Mkt_cap  Energy_consumption  GHG_scope_3  \\\n",
              "0      AAPL 2005-12-30   2.2050   60586.5831                 NaN          NaN   \n",
              "1      AAPL 2006-12-29   2.6020   72900.7792                 NaN          NaN   \n",
              "2      AAPL 2007-12-31   6.0740  173427.0193             265.684          NaN   \n",
              "..      ...        ...      ...          ...                 ...          ...   \n",
              "486     XOM 2018-12-31  57.5328  288703.3109          416667.000          NaN   \n",
              "487     XOM 2019-12-31  61.6941  295246.5813          416667.000     730000.0   \n",
              "488     XOM 2020-12-31  39.3540  174287.8102          416667.000     730000.0   \n",
              "\n",
              "     GHG_total    Return  Year  \n",
              "0          NaN  1.232609  2005  \n",
              "1          NaN  0.180136  2006  \n",
              "2          NaN  1.334748  2007  \n",
              "..         ...       ...   ...  \n",
              "486   127000.0 -0.151017  2018  \n",
              "487   123000.0  0.072517  2019  \n",
              "488   123000.0 -0.362131  2020  \n",
              "\n",
              "[489 rows x 9 columns]"
            ]
          },
          "execution_count": 2,
          "metadata": {},
          "output_type": "execute_result"
        }
      ],
      "source": [
        "url = 'https://github.com/shokru/carbon_emissions/blob/main/data_fin.xlsx?raw=true'\n",
        "data = pd.read_excel(url)\n",
        "data"
      ]
    },
    {
      "attachments": {},
      "cell_type": "markdown",
      "metadata": {
        "id": "VVnT0nFV_wZi"
      },
      "source": [
        "There are some **missing points**, mostly at the beginning of the sample, because the later missing points have been replaced by the last well-defined value (up to 5 years).  \n",
        "The data is not raw and has been pre-processed.  \n",
        "**NOTE**: \"total\" emissions are direct plus indirect emissions (i.e., scope 1&2), while \"scope 3\" emissions encompass those from the whole value chain. The unit is thousands of metric tonnes of carbon dioxide equivalent (KMtCO2e).  \n",
        "Energy consumption is in thousands of megawatt hours (MWh).     \n",
        "\n",
        "### Initial plots\n",
        "We plot some values below.\n"
      ]
    },
    {
      "cell_type": "code",
      "execution_count": 3,
      "metadata": {
        "colab": {
          "base_uri": "https://localhost:8080/",
          "height": 621
        },
        "id": "h6hw73g2AQx5",
        "outputId": "0236262e-a831-426e-89e7-ca40672831dc"
      },
      "outputs": [
        {
          "data": {
            "image/png": "[encoded data removed]",
            "text/plain": [
              "<Figure size 1500x1000 with 2 Axes>"
            ]
          },
          "metadata": {},
          "output_type": "display_data"
        }
      ],
      "source": [
        "fig, ax = plt.subplots(1, 2, figsize=(15,10))\n",
        "sns.lineplot(\n",
        "    ax = ax[0],\n",
        "    data = data,            # Data source = the filtered data (other method)\n",
        "    x = \"Date\",             # x-axis = Date column (of course!)\n",
        "    y = \"GHG_scope_3\",      # y-axis = the normalised Close column\n",
        "    hue = \"Company\"         # One color for each sector\n",
        ")\n",
        "ax[0].set_yscale('log')\n",
        "ax[0].set_title('GHG Scope 3 emissions')\n",
        "sns.lineplot(\n",
        "    ax = ax[1],\n",
        "    data = data,            # Data source = the filtered data (other method)\n",
        "    x = \"Date\",             # x-axis = Date column (of course!)\n",
        "    y = \"GHG_total\",        # y-axis = the normalised Close column\n",
        "    hue = \"Company\"         # One color for each sector\n",
        ")\n",
        "ax[1].set_yscale('log')\n",
        "ax[1].set_title('GHG \"total\" emissions')\n",
        "ax[1].get_legend().remove()"
      ]
    },
    {
      "attachments": {},
      "cell_type": "markdown",
      "metadata": {
        "id": "zcBxBTrOBPbx"
      },
      "source": [
        "**Comment**: \"total\" emission curves are smoother.  \n",
        "Also, disclosure is very firm-specific. Some started early, others later.   \n",
        "Let's sort firms into 2 groups: the **green** and the **brown**.    \n",
        "Green companies have total emissions below the median and it's the opposite for the brown ones."
      ]
    },
    {
      "cell_type": "code",
      "execution_count": 4,
      "metadata": {
        "colab": {
          "base_uri": "https://localhost:8080/",
          "height": 295
        },
        "id": "fTzOZETDBP8R",
        "outputId": "abeae6fa-f150-49bb-c44c-22be1b25df85"
      },
      "outputs": [
        {
          "name": "stderr",
          "output_type": "stream",
          "text": [
            "/opt/miniconda3/lib/python3.9/site-packages/numpy/lib/nanfunctions.py:1215: RuntimeWarning: Mean of empty slice\n",
            "  return np.nanmean(a, axis, out=out, keepdims=keepdims)\n"
          ]
        },
        {
          "data": {
            "text/html": [
              "<div>\n",
              "<style scoped>\n",
              "    .dataframe tbody tr th:only-of-type {\n",
              "        vertical-align: middle;\n",
              "    }\n",
              "\n",
              "    .dataframe tbody tr th {\n",
              "        vertical-align: top;\n",
              "    }\n",
              "\n",
              "    .dataframe thead th {\n",
              "        text-align: right;\n",
              "    }\n",
              "</style>\n",
              "<table border=\"1\" class=\"dataframe\">\n",
              "  <thead>\n",
              "    <tr style=\"text-align: right;\">\n",
              "      <th></th>\n",
              "      <th>Company</th>\n",
              "      <th>Date</th>\n",
              "      <th>Price</th>\n",
              "      <th>Mkt_cap</th>\n",
              "      <th>Energy_consumption</th>\n",
              "      <th>GHG_scope_3</th>\n",
              "      <th>GHG_total</th>\n",
              "      <th>Return</th>\n",
              "      <th>Year</th>\n",
              "      <th>Type</th>\n",
              "    </tr>\n",
              "  </thead>\n",
              "  <tbody>\n",
              "    <tr>\n",
              "      <th>0</th>\n",
              "      <td>AAPL</td>\n",
              "      <td>2005-12-30</td>\n",
              "      <td>2.2050</td>\n",
              "      <td>60586.5831</td>\n",
              "      <td>NaN</td>\n",
              "      <td>NaN</td>\n",
              "      <td>NaN</td>\n",
              "      <td>1.232609</td>\n",
              "      <td>2005</td>\n",
              "      <td>Brown</td>\n",
              "    </tr>\n",
              "    <tr>\n",
              "      <th>1</th>\n",
              "      <td>AAPL</td>\n",
              "      <td>2006-12-29</td>\n",
              "      <td>2.6020</td>\n",
              "      <td>72900.7792</td>\n",
              "      <td>NaN</td>\n",
              "      <td>NaN</td>\n",
              "      <td>NaN</td>\n",
              "      <td>0.180136</td>\n",
              "      <td>2006</td>\n",
              "      <td>Brown</td>\n",
              "    </tr>\n",
              "    <tr>\n",
              "      <th>2</th>\n",
              "      <td>AAPL</td>\n",
              "      <td>2007-12-31</td>\n",
              "      <td>6.0740</td>\n",
              "      <td>173427.0193</td>\n",
              "      <td>265.684</td>\n",
              "      <td>NaN</td>\n",
              "      <td>NaN</td>\n",
              "      <td>1.334748</td>\n",
              "      <td>2007</td>\n",
              "      <td>Brown</td>\n",
              "    </tr>\n",
              "    <tr>\n",
              "      <th>...</th>\n",
              "      <td>...</td>\n",
              "      <td>...</td>\n",
              "      <td>...</td>\n",
              "      <td>...</td>\n",
              "      <td>...</td>\n",
              "      <td>...</td>\n",
              "      <td>...</td>\n",
              "      <td>...</td>\n",
              "      <td>...</td>\n",
              "      <td>...</td>\n",
              "    </tr>\n",
              "    <tr>\n",
              "      <th>486</th>\n",
              "      <td>XOM</td>\n",
              "      <td>2018-12-31</td>\n",
              "      <td>57.5328</td>\n",
              "      <td>288703.3109</td>\n",
              "      <td>416667.000</td>\n",
              "      <td>NaN</td>\n",
              "      <td>127000.0</td>\n",
              "      <td>-0.151017</td>\n",
              "      <td>2018</td>\n",
              "      <td>Brown</td>\n",
              "    </tr>\n",
              "    <tr>\n",
              "      <th>487</th>\n",
              "      <td>XOM</td>\n",
              "      <td>2019-12-31</td>\n",
              "      <td>61.6941</td>\n",
              "      <td>295246.5813</td>\n",
              "      <td>416667.000</td>\n",
              "      <td>730000.0</td>\n",
              "      <td>123000.0</td>\n",
              "      <td>0.072517</td>\n",
              "      <td>2019</td>\n",
              "      <td>Brown</td>\n",
              "    </tr>\n",
              "    <tr>\n",
              "      <th>488</th>\n",
              "      <td>XOM</td>\n",
              "      <td>2020-12-31</td>\n",
              "      <td>39.3540</td>\n",
              "      <td>174287.8102</td>\n",
              "      <td>416667.000</td>\n",
              "      <td>730000.0</td>\n",
              "      <td>123000.0</td>\n",
              "      <td>-0.362131</td>\n",
              "      <td>2020</td>\n",
              "      <td>Brown</td>\n",
              "    </tr>\n",
              "  </tbody>\n",
              "</table>\n",
              "<p>489 rows × 10 columns</p>\n",
              "</div>"
            ],
            "text/plain": [
              "    Company       Date    Price      Mkt_cap  Energy_consumption  GHG_scope_3  \\\n",
              "0      AAPL 2005-12-30   2.2050   60586.5831                 NaN          NaN   \n",
              "1      AAPL 2006-12-29   2.6020   72900.7792                 NaN          NaN   \n",
              "2      AAPL 2007-12-31   6.0740  173427.0193             265.684          NaN   \n",
              "..      ...        ...      ...          ...                 ...          ...   \n",
              "486     XOM 2018-12-31  57.5328  288703.3109          416667.000          NaN   \n",
              "487     XOM 2019-12-31  61.6941  295246.5813          416667.000     730000.0   \n",
              "488     XOM 2020-12-31  39.3540  174287.8102          416667.000     730000.0   \n",
              "\n",
              "     GHG_total    Return  Year   Type  \n",
              "0          NaN  1.232609  2005  Brown  \n",
              "1          NaN  0.180136  2006  Brown  \n",
              "2          NaN  1.334748  2007  Brown  \n",
              "..         ...       ...   ...    ...  \n",
              "486   127000.0 -0.151017  2018  Brown  \n",
              "487   123000.0  0.072517  2019  Brown  \n",
              "488   123000.0 -0.362131  2020  Brown  \n",
              "\n",
              "[489 rows x 10 columns]"
            ]
          },
          "execution_count": 4,
          "metadata": {},
          "output_type": "execute_result"
        }
      ],
      "source": [
        "data['Type'] = data.groupby('Date')['GHG_total'].transform(lambda x: x < x.median()).astype(int)\n",
        "data['Type'] = data['Type'].replace(0, \"Brown\")\n",
        "data['Type'] = data['Type'].replace(1, \"Green\")\n",
        "data"
      ]
    },
    {
      "attachments": {},
      "cell_type": "markdown",
      "metadata": {
        "id": "UF81lutYo85K"
      },
      "source": [
        "Let's visualize that to check."
      ]
    },
    {
      "cell_type": "code",
      "execution_count": 5,
      "metadata": {
        "colab": {
          "base_uri": "https://localhost:8080/",
          "height": 279
        },
        "id": "1CdIYE4SBR-x",
        "outputId": "8d212f14-e18c-40be-b1a1-c510eaecbaa9"
      },
      "outputs": [
        {
          "data": {
            "image/png": "[encoded data removed]",
            "text/plain": [
              "<Figure size 640x480 with 1 Axes>"
            ]
          },
          "metadata": {},
          "output_type": "display_data"
        }
      ],
      "source": [
        "sns.scatterplot(\n",
        "    data = data,\n",
        "    x = 'Date',\n",
        "    y = 'GHG_total',\n",
        "    hue = 'Type',\n",
        "    palette = ['black', 'green']\n",
        ")\n",
        "plt.yscale('log')"
      ]
    },
    {
      "attachments": {},
      "cell_type": "markdown",
      "metadata": {
        "id": "tN8Ksbe7pU1w"
      },
      "source": [
        "A few errors, but ok overall."
      ]
    },
    {
      "cell_type": "code",
      "execution_count": 6,
      "metadata": {
        "colab": {
          "base_uri": "https://localhost:8080/",
          "height": 542
        },
        "id": "N9eWHwCeBXTQ",
        "outputId": "6d4e4ac0-7833-4bce-9f9b-47c8a0706a03"
      },
      "outputs": [
        {
          "data": {
            "application/vnd.plotly.v1+json": {
              "config": {
                "plotlyServerURL": "https://plot.ly"
              },
              "data": [
                {
                  "customdata": [
                    [
                      "AAPL"
                    ],
                    [
                      "AAPL"
                    ],
                    [
                      "AAPL"
                    ],
                    [
                      "AAPL"
                    ],
                    [
                      "AAPL"
                    ],
                    [
                      "BA"
                    ],
                    [
                      "BA"
                    ],
                    [
                      "BA"
                    ],
                    [
                      "BA"
                    ],
                    [
                      "BA"
                    ],
                    [
                      "BAC"
                    ],
                    [
                      "CSCO"
                    ],
                    [
                      "CSCO"
                    ],
                    [
                      "CVS"
                    ],
                    [
                      "CVS"
                    ],
                    [
                      "CVX"
                    ],
                    [
                      "CVX"
                    ],
                    [
                      "CVX"
                    ],
                    [
                      "CVX"
                    ],
                    [
                      "CVX"
                    ],
                    [
                      "CVX"
                    ],
                    [
                      "CVX"
                    ],
                    [
                      "CVX"
                    ],
                    [
                      "CVX"
                    ],
                    [
                      "CVX"
                    ],
                    [
                      "CVX"
                    ],
                    [
                      "CVX"
                    ],
                    [
                      "CVX"
                    ],
                    [
                      "CVX"
                    ],
                    [
                      "CVX"
                    ],
                    [
                      "CVX"
                    ],
                    [
                      "D"
                    ],
                    [
                      "D"
                    ],
                    [
                      "D"
                    ],
                    [
                      "D"
                    ],
                    [
                      "D"
                    ],
                    [
                      "D"
                    ],
                    [
                      "D"
                    ],
                    [
                      "D"
                    ],
                    [
                      "D"
                    ],
                    [
                      "D"
                    ],
                    [
                      "D"
                    ],
                    [
                      "D"
                    ],
                    [
                      "D"
                    ],
                    [
                      "D"
                    ],
                    [
                      "D"
                    ],
                    [
                      "D"
                    ],
                    [
                      "DIS"
                    ],
                    [
                      "DIS"
                    ],
                    [
                      "DIS"
                    ],
                    [
                      "DIS"
                    ],
                    [
                      "DIS"
                    ],
                    [
                      "DIS"
                    ],
                    [
                      "DIS"
                    ],
                    [
                      "DIS"
                    ],
                    [
                      "F"
                    ],
                    [
                      "F"
                    ],
                    [
                      "F"
                    ],
                    [
                      "F"
                    ],
                    [
                      "F"
                    ],
                    [
                      "F"
                    ],
                    [
                      "F"
                    ],
                    [
                      "F"
                    ],
                    [
                      "F"
                    ],
                    [
                      "F"
                    ],
                    [
                      "F"
                    ],
                    [
                      "F"
                    ],
                    [
                      "F"
                    ],
                    [
                      "F"
                    ],
                    [
                      "F"
                    ],
                    [
                      "F"
                    ],
                    [
                      "GE"
                    ],
                    [
                      "GE"
                    ],
                    [
                      "GE"
                    ],
                    [
                      "GE"
                    ],
                    [
                      "GE"
                    ],
                    [
                      "GE"
                    ],
                    [
                      "GE"
                    ],
                    [
                      "GE"
                    ],
                    [
                      "GE"
                    ],
                    [
                      "GE"
                    ],
                    [
                      "GE"
                    ],
                    [
                      "GE"
                    ],
                    [
                      "GE"
                    ],
                    [
                      "GE"
                    ],
                    [
                      "GE"
                    ],
                    [
                      "GE"
                    ],
                    [
                      "HD"
                    ],
                    [
                      "HD"
                    ],
                    [
                      "HD"
                    ],
                    [
                      "HD"
                    ],
                    [
                      "HD"
                    ],
                    [
                      "HD"
                    ],
                    [
                      "HD"
                    ],
                    [
                      "HD"
                    ],
                    [
                      "HD"
                    ],
                    [
                      "HD"
                    ],
                    [
                      "HD"
                    ],
                    [
                      "HD"
                    ],
                    [
                      "HD"
                    ],
                    [
                      "HD"
                    ],
                    [
                      "HD"
                    ],
                    [
                      "HD"
                    ],
                    [
                      "IBM"
                    ],
                    [
                      "IBM"
                    ],
                    [
                      "IBM"
                    ],
                    [
                      "IBM"
                    ],
                    [
                      "IBM"
                    ],
                    [
                      "IBM"
                    ],
                    [
                      "IBM"
                    ],
                    [
                      "IBM"
                    ],
                    [
                      "IBM"
                    ],
                    [
                      "IBM"
                    ],
                    [
                      "IBM"
                    ],
                    [
                      "IBM"
                    ],
                    [
                      "IBM"
                    ],
                    [
                      "INTC"
                    ],
                    [
                      "INTC"
                    ],
                    [
                      "INTC"
                    ],
                    [
                      "INTC"
                    ],
                    [
                      "INTC"
                    ],
                    [
                      "INTC"
                    ],
                    [
                      "INTC"
                    ],
                    [
                      "INTC"
                    ],
                    [
                      "INTC"
                    ],
                    [
                      "INTC"
                    ],
                    [
                      "INTC"
                    ],
                    [
                      "INTC"
                    ],
                    [
                      "INTC"
                    ],
                    [
                      "INTC"
                    ],
                    [
                      "INTC"
                    ],
                    [
                      "INTC"
                    ],
                    [
                      "JNJ"
                    ],
                    [
                      "JNJ"
                    ],
                    [
                      "JNJ"
                    ],
                    [
                      "JNJ"
                    ],
                    [
                      "JNJ"
                    ],
                    [
                      "JNJ"
                    ],
                    [
                      "JNJ"
                    ],
                    [
                      "JNJ"
                    ],
                    [
                      "JNJ"
                    ],
                    [
                      "JNJ"
                    ],
                    [
                      "JNJ"
                    ],
                    [
                      "JNJ"
                    ],
                    [
                      "JPM"
                    ],
                    [
                      "JPM"
                    ],
                    [
                      "JPM"
                    ],
                    [
                      "JPM"
                    ],
                    [
                      "K"
                    ],
                    [
                      "K"
                    ],
                    [
                      "K"
                    ],
                    [
                      "K"
                    ],
                    [
                      "K"
                    ],
                    [
                      "K"
                    ],
                    [
                      "K"
                    ],
                    [
                      "MCK"
                    ],
                    [
                      "MCK"
                    ],
                    [
                      "MCK"
                    ],
                    [
                      "MCK"
                    ],
                    [
                      "MCK"
                    ],
                    [
                      "MCK"
                    ],
                    [
                      "MCK"
                    ],
                    [
                      "MCK"
                    ],
                    [
                      "MCK"
                    ],
                    [
                      "MCK"
                    ],
                    [
                      "MCK"
                    ],
                    [
                      "MCK"
                    ],
                    [
                      "MCK"
                    ],
                    [
                      "MCK"
                    ],
                    [
                      "MCK"
                    ],
                    [
                      "MCK"
                    ],
                    [
                      "MCK"
                    ],
                    [
                      "MRK"
                    ],
                    [
                      "MRK"
                    ],
                    [
                      "MSFT"
                    ],
                    [
                      "MSFT"
                    ],
                    [
                      "MSFT"
                    ],
                    [
                      "MSFT"
                    ],
                    [
                      "MSFT"
                    ],
                    [
                      "MSFT"
                    ],
                    [
                      "MSFT"
                    ],
                    [
                      "MSFT"
                    ],
                    [
                      "ORCL"
                    ],
                    [
                      "ORCL"
                    ],
                    [
                      "ORCL"
                    ],
                    [
                      "ORCL"
                    ],
                    [
                      "ORCL"
                    ],
                    [
                      "ORCL"
                    ],
                    [
                      "ORCL"
                    ],
                    [
                      "ORCL"
                    ],
                    [
                      "ORCL"
                    ],
                    [
                      "PFE"
                    ],
                    [
                      "PFE"
                    ],
                    [
                      "PFE"
                    ],
                    [
                      "PFE"
                    ],
                    [
                      "PFE"
                    ],
                    [
                      "PFE"
                    ],
                    [
                      "PFE"
                    ],
                    [
                      "PFE"
                    ],
                    [
                      "PFE"
                    ],
                    [
                      "PG"
                    ],
                    [
                      "PG"
                    ],
                    [
                      "PG"
                    ],
                    [
                      "PG"
                    ],
                    [
                      "PG"
                    ],
                    [
                      "PG"
                    ],
                    [
                      "PG"
                    ],
                    [
                      "PG"
                    ],
                    [
                      "PG"
                    ],
                    [
                      "PG"
                    ],
                    [
                      "PG"
                    ],
                    [
                      "PG"
                    ],
                    [
                      "PG"
                    ],
                    [
                      "PG"
                    ],
                    [
                      "PG"
                    ],
                    [
                      "PG"
                    ],
                    [
                      "PG"
                    ],
                    [
                      "T"
                    ],
                    [
                      "T"
                    ],
                    [
                      "T"
                    ],
                    [
                      "T"
                    ],
                    [
                      "T"
                    ],
                    [
                      "T"
                    ],
                    [
                      "T"
                    ],
                    [
                      "T"
                    ],
                    [
                      "T"
                    ],
                    [
                      "T"
                    ],
                    [
                      "T"
                    ],
                    [
                      "T"
                    ],
                    [
                      "T"
                    ],
                    [
                      "T"
                    ],
                    [
                      "T"
                    ],
                    [
                      "T"
                    ],
                    [
                      "UNH"
                    ],
                    [
                      "UNH"
                    ],
                    [
                      "UNH"
                    ],
                    [
                      "UNH"
                    ],
                    [
                      "UNH"
                    ],
                    [
                      "UNH"
                    ],
                    [
                      "UNH"
                    ],
                    [
                      "UNH"
                    ],
                    [
                      "UNH"
                    ],
                    [
                      "UNH"
                    ],
                    [
                      "UNH"
                    ],
                    [
                      "UPS"
                    ],
                    [
                      "UPS"
                    ],
                    [
                      "UPS"
                    ],
                    [
                      "UPS"
                    ],
                    [
                      "UPS"
                    ],
                    [
                      "UPS"
                    ],
                    [
                      "UPS"
                    ],
                    [
                      "UPS"
                    ],
                    [
                      "UPS"
                    ],
                    [
                      "UPS"
                    ],
                    [
                      "UPS"
                    ],
                    [
                      "UPS"
                    ],
                    [
                      "UPS"
                    ],
                    [
                      "UPS"
                    ],
                    [
                      "UPS"
                    ],
                    [
                      "UPS"
                    ],
                    [
                      "VZ"
                    ],
                    [
                      "VZ"
                    ],
                    [
                      "VZ"
                    ],
                    [
                      "VZ"
                    ],
                    [
                      "VZ"
                    ],
                    [
                      "VZ"
                    ],
                    [
                      "VZ"
                    ],
                    [
                      "VZ"
                    ],
                    [
                      "VZ"
                    ],
                    [
                      "VZ"
                    ],
                    [
                      "VZ"
                    ],
                    [
                      "VZ"
                    ],
                    [
                      "VZ"
                    ],
                    [
                      "VZ"
                    ],
                    [
                      "VZ"
                    ],
                    [
                      "VZ"
                    ],
                    [
                      "WFC"
                    ],
                    [
                      "WFC"
                    ],
                    [
                      "WFC"
                    ],
                    [
                      "WMT"
                    ],
                    [
                      "WMT"
                    ],
                    [
                      "WMT"
                    ],
                    [
                      "WMT"
                    ],
                    [
                      "WMT"
                    ],
                    [
                      "WMT"
                    ],
                    [
                      "WMT"
                    ],
                    [
                      "WMT"
                    ],
                    [
                      "WMT"
                    ],
                    [
                      "WMT"
                    ],
                    [
                      "WMT"
                    ],
                    [
                      "WMT"
                    ],
                    [
                      "WMT"
                    ],
                    [
                      "WMT"
                    ],
                    [
                      "WMT"
                    ],
                    [
                      "WMT"
                    ],
                    [
                      "WMT"
                    ],
                    [
                      "XOM"
                    ],
                    [
                      "XOM"
                    ],
                    [
                      "XOM"
                    ],
                    [
                      "XOM"
                    ],
                    [
                      "XOM"
                    ],
                    [
                      "XOM"
                    ],
                    [
                      "XOM"
                    ],
                    [
                      "XOM"
                    ],
                    [
                      "XOM"
                    ],
                    [
                      "XOM"
                    ],
                    [
                      "XOM"
                    ],
                    [
                      "XOM"
                    ],
                    [
                      "XOM"
                    ],
                    [
                      "XOM"
                    ],
                    [
                      "XOM"
                    ],
                    [
                      "XOM"
                    ]
                  ],
                  "hovertemplate": "Type=Brown<br>Year=%{x}<br>GHG_total=%{y}<br>Company=%{customdata[0]}<extra></extra>",
                  "legendgroup": "Brown",
                  "marker": {
                    "color": "#666666",
                    "symbol": "circle"
                  },
                  "mode": "markers",
                  "name": "Brown",
                  "orientation": "v",
                  "showlegend": true,
                  "type": "scatter",
                  "x": [
                    2005,
                    2006,
                    2007,
                    2008,
                    2009,
                    2005,
                    2006,
                    2007,
                    2014,
                    2020,
                    2005,
                    2005,
                    2021,
                    2005,
                    2006,
                    2005,
                    2006,
                    2007,
                    2008,
                    2009,
                    2010,
                    2011,
                    2012,
                    2013,
                    2014,
                    2015,
                    2016,
                    2017,
                    2018,
                    2019,
                    2020,
                    2005,
                    2006,
                    2007,
                    2008,
                    2009,
                    2010,
                    2011,
                    2012,
                    2013,
                    2014,
                    2015,
                    2016,
                    2017,
                    2018,
                    2019,
                    2020,
                    2005,
                    2006,
                    2011,
                    2015,
                    2016,
                    2018,
                    2019,
                    2020,
                    2005,
                    2006,
                    2007,
                    2008,
                    2009,
                    2010,
                    2011,
                    2012,
                    2013,
                    2014,
                    2015,
                    2016,
                    2017,
                    2018,
                    2019,
                    2020,
                    2005,
                    2006,
                    2007,
                    2008,
                    2009,
                    2010,
                    2011,
                    2012,
                    2013,
                    2014,
                    2015,
                    2016,
                    2017,
                    2018,
                    2019,
                    2020,
                    2005,
                    2006,
                    2007,
                    2008,
                    2009,
                    2010,
                    2011,
                    2012,
                    2013,
                    2014,
                    2015,
                    2016,
                    2017,
                    2018,
                    2019,
                    2020,
                    2005,
                    2006,
                    2007,
                    2008,
                    2009,
                    2010,
                    2011,
                    2012,
                    2013,
                    2014,
                    2015,
                    2016,
                    2017,
                    2005,
                    2006,
                    2007,
                    2008,
                    2009,
                    2010,
                    2011,
                    2012,
                    2013,
                    2014,
                    2015,
                    2016,
                    2017,
                    2018,
                    2019,
                    2020,
                    2005,
                    2006,
                    2007,
                    2008,
                    2009,
                    2010,
                    2011,
                    2012,
                    2013,
                    2014,
                    2015,
                    2021,
                    2005,
                    2006,
                    2007,
                    2008,
                    2005,
                    2006,
                    2007,
                    2008,
                    2009,
                    2010,
                    2021,
                    2005,
                    2006,
                    2007,
                    2008,
                    2009,
                    2010,
                    2011,
                    2012,
                    2013,
                    2014,
                    2015,
                    2016,
                    2017,
                    2018,
                    2019,
                    2020,
                    2021,
                    2012,
                    2013,
                    2005,
                    2011,
                    2012,
                    2016,
                    2017,
                    2018,
                    2019,
                    2020,
                    2005,
                    2006,
                    2007,
                    2008,
                    2009,
                    2010,
                    2014,
                    2015,
                    2021,
                    2005,
                    2008,
                    2009,
                    2010,
                    2011,
                    2016,
                    2017,
                    2018,
                    2019,
                    2005,
                    2006,
                    2007,
                    2008,
                    2009,
                    2010,
                    2011,
                    2012,
                    2013,
                    2014,
                    2015,
                    2016,
                    2017,
                    2018,
                    2019,
                    2020,
                    2021,
                    2005,
                    2006,
                    2007,
                    2008,
                    2009,
                    2010,
                    2011,
                    2012,
                    2013,
                    2014,
                    2015,
                    2016,
                    2017,
                    2018,
                    2019,
                    2020,
                    2005,
                    2006,
                    2007,
                    2008,
                    2009,
                    2010,
                    2011,
                    2012,
                    2013,
                    2014,
                    2015,
                    2005,
                    2006,
                    2007,
                    2008,
                    2009,
                    2010,
                    2011,
                    2012,
                    2013,
                    2014,
                    2015,
                    2016,
                    2017,
                    2018,
                    2019,
                    2020,
                    2005,
                    2006,
                    2007,
                    2008,
                    2009,
                    2010,
                    2011,
                    2012,
                    2013,
                    2014,
                    2015,
                    2016,
                    2017,
                    2018,
                    2019,
                    2020,
                    2005,
                    2006,
                    2007,
                    2005,
                    2006,
                    2007,
                    2008,
                    2009,
                    2010,
                    2011,
                    2012,
                    2013,
                    2014,
                    2015,
                    2016,
                    2017,
                    2018,
                    2019,
                    2020,
                    2021,
                    2005,
                    2006,
                    2007,
                    2008,
                    2009,
                    2010,
                    2011,
                    2012,
                    2013,
                    2014,
                    2015,
                    2016,
                    2017,
                    2018,
                    2019,
                    2020
                  ],
                  "xaxis": "x",
                  "y": [
                    null,
                    null,
                    null,
                    null,
                    null,
                    null,
                    null,
                    null,
                    1851.88,
                    1360,
                    null,
                    307,
                    647.192,
                    null,
                    null,
                    null,
                    null,
                    null,
                    null,
                    null,
                    null,
                    null,
                    76000,
                    75000,
                    72000,
                    74000,
                    72000,
                    68000,
                    71000,
                    61000,
                    57000,
                    null,
                    null,
                    61750,
                    59260,
                    58690,
                    56430,
                    42100,
                    36227.398,
                    33860,
                    33640,
                    58831.5,
                    55233.102,
                    51958,
                    51651.699,
                    41506.602,
                    41506.602,
                    null,
                    1566.3,
                    1524.8,
                    1769.15,
                    1775.31,
                    1925.34,
                    1865.38,
                    1448.1,
                    null,
                    null,
                    null,
                    null,
                    null,
                    null,
                    null,
                    null,
                    null,
                    null,
                    null,
                    null,
                    4873.57,
                    4792.77,
                    4647.65,
                    2960,
                    11120,
                    7670,
                    7020,
                    6490,
                    5790,
                    5650,
                    5090,
                    4880.44,
                    4977,
                    5034,
                    4533,
                    4533,
                    4533,
                    4533,
                    4533,
                    null,
                    null,
                    null,
                    null,
                    null,
                    null,
                    3124.72,
                    3073.09,
                    3020.01,
                    3020.01,
                    2708.72,
                    2638.39,
                    2394.98,
                    2344.62,
                    2115.27,
                    2164,
                    1946,
                    null,
                    2824.36,
                    2865.12,
                    2961.79,
                    2961.79,
                    2961.79,
                    2727.37,
                    2750.04,
                    2493.06,
                    2438.66,
                    1787.5,
                    1619.07,
                    1496.52,
                    null,
                    4020,
                    3850,
                    3500,
                    3189.88,
                    3120,
                    3200,
                    3125.81,
                    3065.28,
                    3380,
                    3490,
                    3415,
                    4105,
                    4377,
                    4834.5,
                    5673,
                    null,
                    null,
                    null,
                    null,
                    null,
                    null,
                    null,
                    null,
                    null,
                    null,
                    null,
                    1005.41,
                    null,
                    null,
                    null,
                    null,
                    null,
                    null,
                    null,
                    null,
                    null,
                    null,
                    1004,
                    null,
                    null,
                    null,
                    null,
                    null,
                    null,
                    null,
                    null,
                    null,
                    null,
                    null,
                    null,
                    null,
                    null,
                    null,
                    null,
                    null,
                    1980,
                    1860.3,
                    null,
                    null,
                    null,
                    2149.02,
                    2790.35,
                    3091.25,
                    3669.97,
                    4220.54,
                    null,
                    null,
                    null,
                    null,
                    null,
                    null,
                    null,
                    null,
                    577.203,
                    null,
                    2018.77,
                    2850,
                    2710,
                    2660,
                    2050,
                    1710,
                    1680,
                    1490,
                    null,
                    6249,
                    6373,
                    6385,
                    5824,
                    5904,
                    4200,
                    5827,
                    5700,
                    5400,
                    5465,
                    5056,
                    4924,
                    4736.62,
                    4754.08,
                    4784.62,
                    4784.62,
                    null,
                    null,
                    null,
                    null,
                    8915.78,
                    8903.43,
                    9078.27,
                    8843.07,
                    9110.46,
                    9264.15,
                    8668.68,
                    8877.89,
                    7999.78,
                    7681.86,
                    7006.08,
                    6680.01,
                    null,
                    null,
                    null,
                    null,
                    null,
                    null,
                    null,
                    null,
                    null,
                    null,
                    null,
                    7130,
                    7370,
                    13300,
                    13200,
                    12361,
                    12630,
                    12808,
                    12539,
                    12598,
                    12870,
                    13020,
                    13263,
                    13792,
                    14635,
                    14977,
                    16550,
                    5811.4,
                    6051,
                    6220,
                    6271,
                    6491.01,
                    6062.6,
                    5642.69,
                    5855.57,
                    5485.82,
                    5939.1,
                    5974.86,
                    5632.22,
                    4899,
                    4418.82,
                    4365.63,
                    4090.49,
                    null,
                    null,
                    null,
                    null,
                    18900,
                    19300,
                    20100,
                    20800,
                    20300,
                    20600,
                    20800,
                    21200,
                    21000,
                    21880,
                    21040,
                    20730,
                    18680,
                    18120,
                    18120,
                    18120,
                    null,
                    null,
                    null,
                    null,
                    143000,
                    147000,
                    150000,
                    146000,
                    143000,
                    129000,
                    126000,
                    128000,
                    125000,
                    127000,
                    123000,
                    123000
                  ],
                  "yaxis": "y"
                },
                {
                  "customdata": [
                    [
                      "AAPL"
                    ],
                    [
                      "AAPL"
                    ],
                    [
                      "AAPL"
                    ],
                    [
                      "AAPL"
                    ],
                    [
                      "AAPL"
                    ],
                    [
                      "AAPL"
                    ],
                    [
                      "AAPL"
                    ],
                    [
                      "AAPL"
                    ],
                    [
                      "AAPL"
                    ],
                    [
                      "AAPL"
                    ],
                    [
                      "AAPL"
                    ],
                    [
                      "BA"
                    ],
                    [
                      "BA"
                    ],
                    [
                      "BA"
                    ],
                    [
                      "BA"
                    ],
                    [
                      "BA"
                    ],
                    [
                      "BA"
                    ],
                    [
                      "BA"
                    ],
                    [
                      "BA"
                    ],
                    [
                      "BA"
                    ],
                    [
                      "BA"
                    ],
                    [
                      "BA"
                    ],
                    [
                      "BAC"
                    ],
                    [
                      "BAC"
                    ],
                    [
                      "BAC"
                    ],
                    [
                      "BAC"
                    ],
                    [
                      "BAC"
                    ],
                    [
                      "BAC"
                    ],
                    [
                      "BAC"
                    ],
                    [
                      "BAC"
                    ],
                    [
                      "BAC"
                    ],
                    [
                      "BAC"
                    ],
                    [
                      "BAC"
                    ],
                    [
                      "BAC"
                    ],
                    [
                      "BAC"
                    ],
                    [
                      "BAC"
                    ],
                    [
                      "BAC"
                    ],
                    [
                      "C"
                    ],
                    [
                      "C"
                    ],
                    [
                      "C"
                    ],
                    [
                      "C"
                    ],
                    [
                      "C"
                    ],
                    [
                      "C"
                    ],
                    [
                      "C"
                    ],
                    [
                      "C"
                    ],
                    [
                      "C"
                    ],
                    [
                      "C"
                    ],
                    [
                      "C"
                    ],
                    [
                      "C"
                    ],
                    [
                      "C"
                    ],
                    [
                      "C"
                    ],
                    [
                      "C"
                    ],
                    [
                      "C"
                    ],
                    [
                      "CSCO"
                    ],
                    [
                      "CSCO"
                    ],
                    [
                      "CSCO"
                    ],
                    [
                      "CSCO"
                    ],
                    [
                      "CSCO"
                    ],
                    [
                      "CSCO"
                    ],
                    [
                      "CSCO"
                    ],
                    [
                      "CSCO"
                    ],
                    [
                      "CSCO"
                    ],
                    [
                      "CSCO"
                    ],
                    [
                      "CSCO"
                    ],
                    [
                      "CSCO"
                    ],
                    [
                      "CSCO"
                    ],
                    [
                      "CSCO"
                    ],
                    [
                      "CSCO"
                    ],
                    [
                      "CVS"
                    ],
                    [
                      "CVS"
                    ],
                    [
                      "CVS"
                    ],
                    [
                      "CVS"
                    ],
                    [
                      "CVS"
                    ],
                    [
                      "CVS"
                    ],
                    [
                      "CVS"
                    ],
                    [
                      "CVS"
                    ],
                    [
                      "CVS"
                    ],
                    [
                      "CVS"
                    ],
                    [
                      "CVS"
                    ],
                    [
                      "CVS"
                    ],
                    [
                      "CVS"
                    ],
                    [
                      "CVS"
                    ],
                    [
                      "DIS"
                    ],
                    [
                      "DIS"
                    ],
                    [
                      "DIS"
                    ],
                    [
                      "DIS"
                    ],
                    [
                      "DIS"
                    ],
                    [
                      "DIS"
                    ],
                    [
                      "DIS"
                    ],
                    [
                      "DIS"
                    ],
                    [
                      "HD"
                    ],
                    [
                      "IBM"
                    ],
                    [
                      "IBM"
                    ],
                    [
                      "IBM"
                    ],
                    [
                      "JNJ"
                    ],
                    [
                      "JNJ"
                    ],
                    [
                      "JNJ"
                    ],
                    [
                      "JNJ"
                    ],
                    [
                      "JNJ"
                    ],
                    [
                      "JPM"
                    ],
                    [
                      "JPM"
                    ],
                    [
                      "JPM"
                    ],
                    [
                      "JPM"
                    ],
                    [
                      "JPM"
                    ],
                    [
                      "JPM"
                    ],
                    [
                      "JPM"
                    ],
                    [
                      "JPM"
                    ],
                    [
                      "JPM"
                    ],
                    [
                      "JPM"
                    ],
                    [
                      "JPM"
                    ],
                    [
                      "JPM"
                    ],
                    [
                      "K"
                    ],
                    [
                      "K"
                    ],
                    [
                      "K"
                    ],
                    [
                      "K"
                    ],
                    [
                      "K"
                    ],
                    [
                      "K"
                    ],
                    [
                      "K"
                    ],
                    [
                      "K"
                    ],
                    [
                      "K"
                    ],
                    [
                      "K"
                    ],
                    [
                      "MRK"
                    ],
                    [
                      "MRK"
                    ],
                    [
                      "MRK"
                    ],
                    [
                      "MRK"
                    ],
                    [
                      "MRK"
                    ],
                    [
                      "MRK"
                    ],
                    [
                      "MRK"
                    ],
                    [
                      "MRK"
                    ],
                    [
                      "MRK"
                    ],
                    [
                      "MRK"
                    ],
                    [
                      "MRK"
                    ],
                    [
                      "MRK"
                    ],
                    [
                      "MRK"
                    ],
                    [
                      "MRK"
                    ],
                    [
                      "MSFT"
                    ],
                    [
                      "MSFT"
                    ],
                    [
                      "MSFT"
                    ],
                    [
                      "MSFT"
                    ],
                    [
                      "MSFT"
                    ],
                    [
                      "MSFT"
                    ],
                    [
                      "MSFT"
                    ],
                    [
                      "MSFT"
                    ],
                    [
                      "MSFT"
                    ],
                    [
                      "ORCL"
                    ],
                    [
                      "ORCL"
                    ],
                    [
                      "ORCL"
                    ],
                    [
                      "ORCL"
                    ],
                    [
                      "ORCL"
                    ],
                    [
                      "ORCL"
                    ],
                    [
                      "ORCL"
                    ],
                    [
                      "ORCL"
                    ],
                    [
                      "PFE"
                    ],
                    [
                      "PFE"
                    ],
                    [
                      "PFE"
                    ],
                    [
                      "PFE"
                    ],
                    [
                      "PFE"
                    ],
                    [
                      "PFE"
                    ],
                    [
                      "PFE"
                    ],
                    [
                      "UNH"
                    ],
                    [
                      "UNH"
                    ],
                    [
                      "UNH"
                    ],
                    [
                      "UNH"
                    ],
                    [
                      "UNH"
                    ],
                    [
                      "WFC"
                    ],
                    [
                      "WFC"
                    ],
                    [
                      "WFC"
                    ],
                    [
                      "WFC"
                    ],
                    [
                      "WFC"
                    ],
                    [
                      "WFC"
                    ],
                    [
                      "WFC"
                    ],
                    [
                      "WFC"
                    ],
                    [
                      "WFC"
                    ],
                    [
                      "WFC"
                    ],
                    [
                      "WFC"
                    ],
                    [
                      "WFC"
                    ],
                    [
                      "WFC"
                    ]
                  ],
                  "hovertemplate": "Type=Green<br>Year=%{x}<br>GHG_total=%{y}<br>Company=%{customdata[0]}<extra></extra>",
                  "legendgroup": "Green",
                  "marker": {
                    "color": "#00CC66",
                    "symbol": "circle"
                  },
                  "mode": "markers",
                  "name": "Green",
                  "orientation": "v",
                  "showlegend": true,
                  "type": "scatter",
                  "x": [
                    2010,
                    2011,
                    2012,
                    2013,
                    2014,
                    2015,
                    2016,
                    2017,
                    2018,
                    2019,
                    2020,
                    2008,
                    2009,
                    2010,
                    2011,
                    2012,
                    2013,
                    2015,
                    2016,
                    2017,
                    2018,
                    2019,
                    2006,
                    2007,
                    2008,
                    2009,
                    2010,
                    2011,
                    2012,
                    2013,
                    2014,
                    2015,
                    2016,
                    2017,
                    2018,
                    2019,
                    2020,
                    2005,
                    2006,
                    2007,
                    2008,
                    2009,
                    2010,
                    2011,
                    2012,
                    2013,
                    2014,
                    2015,
                    2016,
                    2017,
                    2018,
                    2019,
                    2020,
                    2006,
                    2007,
                    2008,
                    2009,
                    2010,
                    2011,
                    2012,
                    2013,
                    2014,
                    2015,
                    2016,
                    2017,
                    2018,
                    2019,
                    2020,
                    2007,
                    2008,
                    2009,
                    2010,
                    2011,
                    2012,
                    2013,
                    2014,
                    2015,
                    2016,
                    2017,
                    2018,
                    2019,
                    2020,
                    2007,
                    2008,
                    2009,
                    2010,
                    2012,
                    2013,
                    2014,
                    2017,
                    2021,
                    2018,
                    2019,
                    2020,
                    2016,
                    2017,
                    2018,
                    2019,
                    2020,
                    2009,
                    2010,
                    2011,
                    2012,
                    2013,
                    2014,
                    2015,
                    2016,
                    2017,
                    2018,
                    2019,
                    2020,
                    2011,
                    2012,
                    2013,
                    2014,
                    2015,
                    2016,
                    2017,
                    2018,
                    2019,
                    2020,
                    2005,
                    2006,
                    2007,
                    2008,
                    2009,
                    2010,
                    2011,
                    2014,
                    2015,
                    2016,
                    2017,
                    2018,
                    2019,
                    2020,
                    2006,
                    2007,
                    2008,
                    2009,
                    2010,
                    2013,
                    2014,
                    2015,
                    2021,
                    2011,
                    2012,
                    2013,
                    2016,
                    2017,
                    2018,
                    2019,
                    2020,
                    2006,
                    2007,
                    2012,
                    2013,
                    2014,
                    2015,
                    2020,
                    2016,
                    2017,
                    2018,
                    2019,
                    2020,
                    2008,
                    2009,
                    2010,
                    2011,
                    2012,
                    2013,
                    2014,
                    2015,
                    2016,
                    2017,
                    2018,
                    2019,
                    2020
                  ],
                  "xaxis": "x",
                  "y": [
                    167.96,
                    216.628,
                    271.745,
                    334.186,
                    363.397,
                    404.468,
                    633.842,
                    696,
                    831.09,
                    912.667,
                    937.629,
                    1679,
                    1679,
                    1679,
                    1679,
                    1300,
                    1803.38,
                    1520.7,
                    1252,
                    1131,
                    1116,
                    1105,
                    1380,
                    1428.62,
                    1483.43,
                    2023.62,
                    1812.55,
                    1697.19,
                    1540.94,
                    1448.4,
                    1333.29,
                    1135.73,
                    1056.77,
                    918.35,
                    876.311,
                    791.41,
                    711.025,
                    1275.81,
                    1365.6,
                    1305.43,
                    1288.34,
                    1185.39,
                    1086.87,
                    1056.46,
                    1040.58,
                    987.83,
                    924.252,
                    837.359,
                    788.553,
                    721.349,
                    657.652,
                    616.901,
                    526.458,
                    345.252,
                    495.146,
                    574.439,
                    628.115,
                    633.767,
                    660.246,
                    693.996,
                    722.184,
                    754.477,
                    775.24,
                    781.719,
                    777.978,
                    712.216,
                    692.271,
                    647.192,
                    1543,
                    1560,
                    1786,
                    1778,
                    1800.5,
                    1647.3,
                    1711.44,
                    1656.5,
                    1583.66,
                    1468.8,
                    1425.23,
                    1274.1,
                    1181.8,
                    1142.76,
                    1566.3,
                    1532.36,
                    1496.79,
                    1465.78,
                    1651.95,
                    1819.65,
                    1788.69,
                    1876.57,
                    1821,
                    1257.66,
                    1104.79,
                    919.7,
                    1115,
                    1160.32,
                    1133.82,
                    1063.69,
                    1063.69,
                    1343.21,
                    1319.4,
                    1323.41,
                    1303.09,
                    1178.51,
                    1162.77,
                    1061.97,
                    985.649,
                    848.933,
                    822.559,
                    773.954,
                    730.171,
                    1070,
                    1040,
                    1200,
                    1200,
                    1150,
                    1195,
                    1088,
                    1008,
                    1004,
                    1004,
                    1440,
                    1360,
                    1360,
                    1180,
                    2140,
                    2080,
                    2090,
                    1676,
                    1453,
                    1371.1,
                    1252.4,
                    1208.1,
                    1168.9,
                    1168.9,
                    260.73,
                    276.34,
                    280,
                    280,
                    280,
                    1317.03,
                    1606.56,
                    1728,
                    4220.54,
                    397.123,
                    397.123,
                    397.123,
                    520.528,
                    411.286,
                    527.835,
                    507.001,
                    577.203,
                    2408.32,
                    2194.17,
                    1790,
                    1670,
                    1570,
                    1510,
                    1330,
                    189.167,
                    173.289,
                    167.687,
                    170.713,
                    181.238,
                    1848.74,
                    1707.04,
                    1604.29,
                    1601.05,
                    1427.28,
                    1363.95,
                    1326.73,
                    1285.89,
                    1060.6,
                    934.35,
                    928.52,
                    863.32,
                    776.414
                  ],
                  "yaxis": "y"
                }
              ],
              "layout": {
                "legend": {
                  "title": {
                    "text": "Type"
                  },
                  "tracegroupgap": 0
                },
                "margin": {
                  "t": 60
                },
                "template": {
                  "data": {
                    "bar": [
                      {
                        "error_x": {
                          "color": "#2a3f5f"
                        },
                        "error_y": {
                          "color": "#2a3f5f"
                        },
                        "marker": {
                          "line": {
                            "color": "#E5ECF6",
                            "width": 0.5
                          },
                          "pattern": {
                            "fillmode": "overlay",
                            "size": 10,
                            "solidity": 0.2
                          }
                        },
                        "type": "bar"
                      }
                    ],
                    "barpolar": [
                      {
                        "marker": {
                          "line": {
                            "color": "#E5ECF6",
                            "width": 0.5
                          },
                          "pattern": {
                            "fillmode": "overlay",
                            "size": 10,
                            "solidity": 0.2
                          }
                        },
                        "type": "barpolar"
                      }
                    ],
                    "carpet": [
                      {
                        "aaxis": {
                          "endlinecolor": "#2a3f5f",
                          "gridcolor": "white",
                          "linecolor": "white",
                          "minorgridcolor": "white",
                          "startlinecolor": "#2a3f5f"
                        },
                        "baxis": {
                          "endlinecolor": "#2a3f5f",
                          "gridcolor": "white",
                          "linecolor": "white",
                          "minorgridcolor": "white",
                          "startlinecolor": "#2a3f5f"
                        },
                        "type": "carpet"
                      }
                    ],
                    "choropleth": [
                      {
                        "colorbar": {
                          "outlinewidth": 0,
                          "ticks": ""
                        },
                        "type": "choropleth"
                      }
                    ],
                    "contour": [
                      {
                        "colorbar": {
                          "outlinewidth": 0,
                          "ticks": ""
                        },
                        "colorscale": [
                          [
                            0,
                            "#0d0887"
                          ],
                          [
                            0.1111111111111111,
                            "#46039f"
                          ],
                          [
                            0.2222222222222222,
                            "#7201a8"
                          ],
                          [
                            0.3333333333333333,
                            "#9c179e"
                          ],
                          [
                            0.4444444444444444,
                            "#bd3786"
                          ],
                          [
                            0.5555555555555556,
                            "#d8576b"
                          ],
                          [
                            0.6666666666666666,
                            "#ed7953"
                          ],
                          [
                            0.7777777777777778,
                            "#fb9f3a"
                          ],
                          [
                            0.8888888888888888,
                            "#fdca26"
                          ],
                          [
                            1,
                            "#f0f921"
                          ]
                        ],
                        "type": "contour"
                      }
                    ],
                    "contourcarpet": [
                      {
                        "colorbar": {
                          "outlinewidth": 0,
                          "ticks": ""
                        },
                        "type": "contourcarpet"
                      }
                    ],
                    "heatmap": [
                      {
                        "colorbar": {
                          "outlinewidth": 0,
                          "ticks": ""
                        },
                        "colorscale": [
                          [
                            0,
                            "#0d0887"
                          ],
                          [
                            0.1111111111111111,
                            "#46039f"
                          ],
                          [
                            0.2222222222222222,
                            "#7201a8"
                          ],
                          [
                            0.3333333333333333,
                            "#9c179e"
                          ],
                          [
                            0.4444444444444444,
                            "#bd3786"
                          ],
                          [
                            0.5555555555555556,
                            "#d8576b"
                          ],
                          [
                            0.6666666666666666,
                            "#ed7953"
                          ],
                          [
                            0.7777777777777778,
                            "#fb9f3a"
                          ],
                          [
                            0.8888888888888888,
                            "#fdca26"
                          ],
                          [
                            1,
                            "#f0f921"
                          ]
                        ],
                        "type": "heatmap"
                      }
                    ],
                    "heatmapgl": [
                      {
                        "colorbar": {
                          "outlinewidth": 0,
                          "ticks": ""
                        },
                        "colorscale": [
                          [
                            0,
                            "#0d0887"
                          ],
                          [
                            0.1111111111111111,
                            "#46039f"
                          ],
                          [
                            0.2222222222222222,
                            "#7201a8"
                          ],
                          [
                            0.3333333333333333,
                            "#9c179e"
                          ],
                          [
                            0.4444444444444444,
                            "#bd3786"
                          ],
                          [
                            0.5555555555555556,
                            "#d8576b"
                          ],
                          [
                            0.6666666666666666,
                            "#ed7953"
                          ],
                          [
                            0.7777777777777778,
                            "#fb9f3a"
                          ],
                          [
                            0.8888888888888888,
                            "#fdca26"
                          ],
                          [
                            1,
                            "#f0f921"
                          ]
                        ],
                        "type": "heatmapgl"
                      }
                    ],
                    "histogram": [
                      {
                        "marker": {
                          "pattern": {
                            "fillmode": "overlay",
                            "size": 10,
                            "solidity": 0.2
                          }
                        },
                        "type": "histogram"
                      }
                    ],
                    "histogram2d": [
                      {
                        "colorbar": {
                          "outlinewidth": 0,
                          "ticks": ""
                        },
                        "colorscale": [
                          [
                            0,
                            "#0d0887"
                          ],
                          [
                            0.1111111111111111,
                            "#46039f"
                          ],
                          [
                            0.2222222222222222,
                            "#7201a8"
                          ],
                          [
                            0.3333333333333333,
                            "#9c179e"
                          ],
                          [
                            0.4444444444444444,
                            "#bd3786"
                          ],
                          [
                            0.5555555555555556,
                            "#d8576b"
                          ],
                          [
                            0.6666666666666666,
                            "#ed7953"
                          ],
                          [
                            0.7777777777777778,
                            "#fb9f3a"
                          ],
                          [
                            0.8888888888888888,
                            "#fdca26"
                          ],
                          [
                            1,
                            "#f0f921"
                          ]
                        ],
                        "type": "histogram2d"
                      }
                    ],
                    "histogram2dcontour": [
                      {
                        "colorbar": {
                          "outlinewidth": 0,
                          "ticks": ""
                        },
                        "colorscale": [
                          [
                            0,
                            "#0d0887"
                          ],
                          [
                            0.1111111111111111,
                            "#46039f"
                          ],
                          [
                            0.2222222222222222,
                            "#7201a8"
                          ],
                          [
                            0.3333333333333333,
                            "#9c179e"
                          ],
                          [
                            0.4444444444444444,
                            "#bd3786"
                          ],
                          [
                            0.5555555555555556,
                            "#d8576b"
                          ],
                          [
                            0.6666666666666666,
                            "#ed7953"
                          ],
                          [
                            0.7777777777777778,
                            "#fb9f3a"
                          ],
                          [
                            0.8888888888888888,
                            "#fdca26"
                          ],
                          [
                            1,
                            "#f0f921"
                          ]
                        ],
                        "type": "histogram2dcontour"
                      }
                    ],
                    "mesh3d": [
                      {
                        "colorbar": {
                          "outlinewidth": 0,
                          "ticks": ""
                        },
                        "type": "mesh3d"
                      }
                    ],
                    "parcoords": [
                      {
                        "line": {
                          "colorbar": {
                            "outlinewidth": 0,
                            "ticks": ""
                          }
                        },
                        "type": "parcoords"
                      }
                    ],
                    "pie": [
                      {
                        "automargin": true,
                        "type": "pie"
                      }
                    ],
                    "scatter": [
                      {
                        "fillpattern": {
                          "fillmode": "overlay",
                          "size": 10,
                          "solidity": 0.2
                        },
                        "type": "scatter"
                      }
                    ],
                    "scatter3d": [
                      {
                        "line": {
                          "colorbar": {
                            "outlinewidth": 0,
                            "ticks": ""
                          }
                        },
                        "marker": {
                          "colorbar": {
                            "outlinewidth": 0,
                            "ticks": ""
                          }
                        },
                        "type": "scatter3d"
                      }
                    ],
                    "scattercarpet": [
                      {
                        "marker": {
                          "colorbar": {
                            "outlinewidth": 0,
                            "ticks": ""
                          }
                        },
                        "type": "scattercarpet"
                      }
                    ],
                    "scattergeo": [
                      {
                        "marker": {
                          "colorbar": {
                            "outlinewidth": 0,
                            "ticks": ""
                          }
                        },
                        "type": "scattergeo"
                      }
                    ],
                    "scattergl": [
                      {
                        "marker": {
                          "colorbar": {
                            "outlinewidth": 0,
                            "ticks": ""
                          }
                        },
                        "type": "scattergl"
                      }
                    ],
                    "scattermapbox": [
                      {
                        "marker": {
                          "colorbar": {
                            "outlinewidth": 0,
                            "ticks": ""
                          }
                        },
                        "type": "scattermapbox"
                      }
                    ],
                    "scatterpolar": [
                      {
                        "marker": {
                          "colorbar": {
                            "outlinewidth": 0,
                            "ticks": ""
                          }
                        },
                        "type": "scatterpolar"
                      }
                    ],
                    "scatterpolargl": [
                      {
                        "marker": {
                          "colorbar": {
                            "outlinewidth": 0,
                            "ticks": ""
                          }
                        },
                        "type": "scatterpolargl"
                      }
                    ],
                    "scatterternary": [
                      {
                        "marker": {
                          "colorbar": {
                            "outlinewidth": 0,
                            "ticks": ""
                          }
                        },
                        "type": "scatterternary"
                      }
                    ],
                    "surface": [
                      {
                        "colorbar": {
                          "outlinewidth": 0,
                          "ticks": ""
                        },
                        "colorscale": [
                          [
                            0,
                            "#0d0887"
                          ],
                          [
                            0.1111111111111111,
                            "#46039f"
                          ],
                          [
                            0.2222222222222222,
                            "#7201a8"
                          ],
                          [
                            0.3333333333333333,
                            "#9c179e"
                          ],
                          [
                            0.4444444444444444,
                            "#bd3786"
                          ],
                          [
                            0.5555555555555556,
                            "#d8576b"
                          ],
                          [
                            0.6666666666666666,
                            "#ed7953"
                          ],
                          [
                            0.7777777777777778,
                            "#fb9f3a"
                          ],
                          [
                            0.8888888888888888,
                            "#fdca26"
                          ],
                          [
                            1,
                            "#f0f921"
                          ]
                        ],
                        "type": "surface"
                      }
                    ],
                    "table": [
                      {
                        "cells": {
                          "fill": {
                            "color": "#EBF0F8"
                          },
                          "line": {
                            "color": "white"
                          }
                        },
                        "header": {
                          "fill": {
                            "color": "#C8D4E3"
                          },
                          "line": {
                            "color": "white"
                          }
                        },
                        "type": "table"
                      }
                    ]
                  },
                  "layout": {
                    "annotationdefaults": {
                      "arrowcolor": "#2a3f5f",
                      "arrowhead": 0,
                      "arrowwidth": 1
                    },
                    "autotypenumbers": "strict",
                    "coloraxis": {
                      "colorbar": {
                        "outlinewidth": 0,
                        "ticks": ""
                      }
                    },
                    "colorscale": {
                      "diverging": [
                        [
                          0,
                          "#8e0152"
                        ],
                        [
                          0.1,
                          "#c51b7d"
                        ],
                        [
                          0.2,
                          "#de77ae"
                        ],
                        [
                          0.3,
                          "#f1b6da"
                        ],
                        [
                          0.4,
                          "#fde0ef"
                        ],
                        [
                          0.5,
                          "#f7f7f7"
                        ],
                        [
                          0.6,
                          "#e6f5d0"
                        ],
                        [
                          0.7,
                          "#b8e186"
                        ],
                        [
                          0.8,
                          "#7fbc41"
                        ],
                        [
                          0.9,
                          "#4d9221"
                        ],
                        [
                          1,
                          "#276419"
                        ]
                      ],
                      "sequential": [
                        [
                          0,
                          "#0d0887"
                        ],
                        [
                          0.1111111111111111,
                          "#46039f"
                        ],
                        [
                          0.2222222222222222,
                          "#7201a8"
                        ],
                        [
                          0.3333333333333333,
                          "#9c179e"
                        ],
                        [
                          0.4444444444444444,
                          "#bd3786"
                        ],
                        [
                          0.5555555555555556,
                          "#d8576b"
                        ],
                        [
                          0.6666666666666666,
                          "#ed7953"
                        ],
                        [
                          0.7777777777777778,
                          "#fb9f3a"
                        ],
                        [
                          0.8888888888888888,
                          "#fdca26"
                        ],
                        [
                          1,
                          "#f0f921"
                        ]
                      ],
                      "sequentialminus": [
                        [
                          0,
                          "#0d0887"
                        ],
                        [
                          0.1111111111111111,
                          "#46039f"
                        ],
                        [
                          0.2222222222222222,
                          "#7201a8"
                        ],
                        [
                          0.3333333333333333,
                          "#9c179e"
                        ],
                        [
                          0.4444444444444444,
                          "#bd3786"
                        ],
                        [
                          0.5555555555555556,
                          "#d8576b"
                        ],
                        [
                          0.6666666666666666,
                          "#ed7953"
                        ],
                        [
                          0.7777777777777778,
                          "#fb9f3a"
                        ],
                        [
                          0.8888888888888888,
                          "#fdca26"
                        ],
                        [
                          1,
                          "#f0f921"
                        ]
                      ]
                    },
                    "colorway": [
                      "#636efa",
                      "#EF553B",
                      "#00cc96",
                      "#ab63fa",
                      "#FFA15A",
                      "#19d3f3",
                      "#FF6692",
                      "#B6E880",
                      "#FF97FF",
                      "#FECB52"
                    ],
                    "font": {
                      "color": "#2a3f5f"
                    },
                    "geo": {
                      "bgcolor": "white",
                      "lakecolor": "white",
                      "landcolor": "#E5ECF6",
                      "showlakes": true,
                      "showland": true,
                      "subunitcolor": "white"
                    },
                    "hoverlabel": {
                      "align": "left"
                    },
                    "hovermode": "closest",
                    "mapbox": {
                      "style": "light"
                    },
                    "paper_bgcolor": "white",
                    "plot_bgcolor": "#E5ECF6",
                    "polar": {
                      "angularaxis": {
                        "gridcolor": "white",
                        "linecolor": "white",
                        "ticks": ""
                      },
                      "bgcolor": "#E5ECF6",
                      "radialaxis": {
                        "gridcolor": "white",
                        "linecolor": "white",
                        "ticks": ""
                      }
                    },
                    "scene": {
                      "xaxis": {
                        "backgroundcolor": "#E5ECF6",
                        "gridcolor": "white",
                        "gridwidth": 2,
                        "linecolor": "white",
                        "showbackground": true,
                        "ticks": "",
                        "zerolinecolor": "white"
                      },
                      "yaxis": {
                        "backgroundcolor": "#E5ECF6",
                        "gridcolor": "white",
                        "gridwidth": 2,
                        "linecolor": "white",
                        "showbackground": true,
                        "ticks": "",
                        "zerolinecolor": "white"
                      },
                      "zaxis": {
                        "backgroundcolor": "#E5ECF6",
                        "gridcolor": "white",
                        "gridwidth": 2,
                        "linecolor": "white",
                        "showbackground": true,
                        "ticks": "",
                        "zerolinecolor": "white"
                      }
                    },
                    "shapedefaults": {
                      "line": {
                        "color": "#2a3f5f"
                      }
                    },
                    "ternary": {
                      "aaxis": {
                        "gridcolor": "white",
                        "linecolor": "white",
                        "ticks": ""
                      },
                      "baxis": {
                        "gridcolor": "white",
                        "linecolor": "white",
                        "ticks": ""
                      },
                      "bgcolor": "#E5ECF6",
                      "caxis": {
                        "gridcolor": "white",
                        "linecolor": "white",
                        "ticks": ""
                      }
                    },
                    "title": {
                      "x": 0.05
                    },
                    "xaxis": {
                      "automargin": true,
                      "gridcolor": "white",
                      "linecolor": "white",
                      "ticks": "",
                      "title": {
                        "standoff": 15
                      },
                      "zerolinecolor": "white",
                      "zerolinewidth": 2
                    },
                    "yaxis": {
                      "automargin": true,
                      "gridcolor": "white",
                      "linecolor": "white",
                      "ticks": "",
                      "title": {
                        "standoff": 15
                      },
                      "zerolinecolor": "white",
                      "zerolinewidth": 2
                    }
                  }
                },
                "xaxis": {
                  "anchor": "y",
                  "domain": [
                    0,
                    1
                  ],
                  "title": {
                    "text": "Year"
                  }
                },
                "yaxis": {
                  "anchor": "x",
                  "domain": [
                    0,
                    1
                  ],
                  "title": {
                    "text": "GHG_total"
                  },
                  "type": "log"
                }
              }
            }
          },
          "metadata": {},
          "output_type": "display_data"
        }
      ],
      "source": [
        "fig = px.scatter(data, \n",
        "                 x=\"Year\",\n",
        "                 y=\"GHG_total\", \n",
        "                 color=\"Type\",\n",
        "                 color_discrete_sequence = ['#666666', '#00CC66'],\n",
        "                 hover_data=['Company'],\n",
        "                 log_y = True)\n",
        "fig.show()"
      ]
    },
    {
      "attachments": {},
      "cell_type": "markdown",
      "metadata": {
        "id": "cbp--aR5BAnv"
      },
      "source": [
        "Finally, let's have a look at some recent emission values of all firms.\n",
        "We use log-scales for readability purposes."
      ]
    },
    {
      "cell_type": "code",
      "execution_count": 7,
      "metadata": {
        "colab": {
          "base_uri": "https://localhost:8080/",
          "height": 351
        },
        "id": "r-UxxtFlB3Jy",
        "outputId": "df7f7629-6cee-410a-8fd4-1e5bd5009ba4"
      },
      "outputs": [
        {
          "data": {
            "text/plain": [
              "<Axes: xlabel='Company', ylabel='GHG_total'>"
            ]
          },
          "execution_count": 7,
          "metadata": {},
          "output_type": "execute_result"
        },
        {
          "data": {
            "image/png": "[encoded data removed]",
            "text/plain": [
              "<Figure size 1500x500 with 1 Axes>"
            ]
          },
          "metadata": {},
          "output_type": "display_data"
        }
      ],
      "source": [
        "f , ax = plt.subplots(figsize=(15, 5))\n",
        "ax.set(yscale=\"log\")\n",
        "\n",
        "sns.barplot(data = data.query('Year == 2019'),\n",
        "            ax = ax,\n",
        "            x = 'Company',\n",
        "            y = 'GHG_total')\n"
      ]
    },
    {
      "attachments": {},
      "cell_type": "markdown",
      "metadata": {
        "id": "7qQfDpZZLxA7"
      },
      "source": [
        "We see that Merck has not disclosed emission data for 2019, and in fact, for any year.  \n",
        "Though a few scope 3 points are available, surprisingly.  \n",
        "This will be an issue subsequently and we will have to impute... \n",
        "How about Scope 3 emissions?\n"
      ]
    },
    {
      "cell_type": "code",
      "execution_count": 8,
      "metadata": {
        "colab": {
          "base_uri": "https://localhost:8080/",
          "height": 353
        },
        "id": "Mdil4mRL4WpW",
        "outputId": "dab334f0-d280-482d-e1ce-cb7b2d6e6f93"
      },
      "outputs": [
        {
          "data": {
            "text/plain": [
              "<Axes: xlabel='Company', ylabel='GHG_scope_3'>"
            ]
          },
          "execution_count": 8,
          "metadata": {},
          "output_type": "execute_result"
        },
        {
          "data": {
            "image/png": "[encoded data removed]",
            "text/plain": [
              "<Figure size 1500x500 with 1 Axes>"
            ]
          },
          "metadata": {},
          "output_type": "display_data"
        }
      ],
      "source": [
        "f , ax = plt.subplots(figsize=(15, 5))\n",
        "ax.set(yscale=\"log\")\n",
        "\n",
        "sns.barplot(data = data.query('Year == 2019'),\n",
        "            ax = ax,\n",
        "            x = 'Company',\n",
        "            y = 'GHG_scope_3')"
      ]
    },
    {
      "attachments": {},
      "cell_type": "markdown",
      "metadata": {
        "id": "zXkskzbBqsmb"
      },
      "source": [
        "### Profitability & risk\n",
        "\n",
        "Next, we turn to the financial performance of the stocks.  \n",
        "We are shifting to the pecuniary part of our analysis."
      ]
    },
    {
      "cell_type": "code",
      "execution_count": 9,
      "metadata": {
        "colab": {
          "base_uri": "https://localhost:8080/",
          "height": 326
        },
        "id": "uUdn0hXQq_P7",
        "outputId": "767d2ac2-3bc2-4346-cadd-8c550fea96d6"
      },
      "outputs": [
        {
          "data": {
            "text/html": [
              "<div>\n",
              "<style scoped>\n",
              "    .dataframe tbody tr th:only-of-type {\n",
              "        vertical-align: middle;\n",
              "    }\n",
              "\n",
              "    .dataframe tbody tr th {\n",
              "        vertical-align: top;\n",
              "    }\n",
              "\n",
              "    .dataframe thead th {\n",
              "        text-align: right;\n",
              "    }\n",
              "</style>\n",
              "<table border=\"1\" class=\"dataframe\">\n",
              "  <thead>\n",
              "    <tr style=\"text-align: right;\">\n",
              "      <th></th>\n",
              "      <th>Return</th>\n",
              "    </tr>\n",
              "    <tr>\n",
              "      <th>Company</th>\n",
              "      <th></th>\n",
              "    </tr>\n",
              "  </thead>\n",
              "  <tbody>\n",
              "    <tr>\n",
              "      <th>AAPL</th>\n",
              "      <td>0.467784</td>\n",
              "    </tr>\n",
              "    <tr>\n",
              "      <th>BA</th>\n",
              "      <td>0.172010</td>\n",
              "    </tr>\n",
              "    <tr>\n",
              "      <th>BAC</th>\n",
              "      <td>0.076952</td>\n",
              "    </tr>\n",
              "    <tr>\n",
              "      <th>...</th>\n",
              "      <td>...</td>\n",
              "    </tr>\n",
              "    <tr>\n",
              "      <th>WFC</th>\n",
              "      <td>0.047988</td>\n",
              "    </tr>\n",
              "    <tr>\n",
              "      <th>WMT</th>\n",
              "      <td>0.109172</td>\n",
              "    </tr>\n",
              "    <tr>\n",
              "      <th>XOM</th>\n",
              "      <td>0.035225</td>\n",
              "    </tr>\n",
              "  </tbody>\n",
              "</table>\n",
              "<p>30 rows × 1 columns</p>\n",
              "</div>"
            ],
            "text/plain": [
              "           Return\n",
              "Company          \n",
              "AAPL     0.467784\n",
              "BA       0.172010\n",
              "BAC      0.076952\n",
              "...           ...\n",
              "WFC      0.047988\n",
              "WMT      0.109172\n",
              "XOM      0.035225\n",
              "\n",
              "[30 rows x 1 columns]"
            ]
          },
          "execution_count": 9,
          "metadata": {},
          "output_type": "execute_result"
        }
      ],
      "source": [
        "mu_vector = data.pivot_table(index = 'Company', values = 'Return', aggfunc = 'mean')\n",
        "mu_vector"
      ]
    },
    {
      "attachments": {},
      "cell_type": "markdown",
      "metadata": {
        "id": "V2xs7979rNVN"
      },
      "source": [
        "Let's plot this..."
      ]
    },
    {
      "cell_type": "code",
      "execution_count": 10,
      "metadata": {
        "colab": {
          "base_uri": "https://localhost:8080/",
          "height": 542
        },
        "id": "J2juB2XjrQ2N",
        "outputId": "dafbd577-4f6c-43ef-ab37-b88baa653289"
      },
      "outputs": [
        {
          "data": {
            "application/vnd.plotly.v1+json": {
              "config": {
                "plotlyServerURL": "https://plot.ly"
              },
              "data": [
                {
                  "alignmentgroup": "True",
                  "hovertemplate": "Company=%{x}<br>Return=%{y}<extra></extra>",
                  "legendgroup": "",
                  "marker": {
                    "color": "#636efa",
                    "pattern": {
                      "shape": ""
                    }
                  },
                  "name": "",
                  "offsetgroup": "",
                  "orientation": "v",
                  "showlegend": false,
                  "textposition": "auto",
                  "type": "bar",
                  "x": [
                    "AAPL",
                    "BA",
                    "BAC",
                    "C",
                    "CSCO",
                    "CVS",
                    "CVX",
                    "D",
                    "DIS",
                    "F",
                    "GE",
                    "HD",
                    "IBM",
                    "INTC",
                    "JNJ",
                    "JPM",
                    "K",
                    "MCK",
                    "MRK",
                    "MSFT",
                    "ORCL",
                    "PFE",
                    "PG",
                    "T",
                    "UNH",
                    "UPS",
                    "VZ",
                    "WFC",
                    "WMT",
                    "XOM"
                  ],
                  "xaxis": "x",
                  "y": [
                    0.46778425,
                    0.1720101875,
                    0.076951625,
                    -0.008533437499999996,
                    0.09170211764705882,
                    0.1066240625,
                    0.0855218125,
                    0.1043143125,
                    0.1612243125,
                    0.1770131875,
                    0.011223812500000001,
                    0.1755115882352941,
                    0.062074124999999994,
                    0.10747387500000001,
                    0.09526582352941176,
                    0.12721174999999998,
                    0.05111376470588236,
                    0.17391582352941176,
                    0.1246643125,
                    0.21197235294117647,
                    0.13855058823529412,
                    0.0733958125,
                    0.09942694117647059,
                    0.084757,
                    0.185606375,
                    0.09079325,
                    0.09143899999999999,
                    0.0479880625,
                    0.10917158823529412,
                    0.03522525
                  ],
                  "yaxis": "y"
                }
              ],
              "layout": {
                "barmode": "relative",
                "legend": {
                  "tracegroupgap": 0
                },
                "margin": {
                  "t": 60
                },
                "template": {
                  "data": {
                    "bar": [
                      {
                        "error_x": {
                          "color": "#2a3f5f"
                        },
                        "error_y": {
                          "color": "#2a3f5f"
                        },
                        "marker": {
                          "line": {
                            "color": "#E5ECF6",
                            "width": 0.5
                          },
                          "pattern": {
                            "fillmode": "overlay",
                            "size": 10,
                            "solidity": 0.2
                          }
                        },
                        "type": "bar"
                      }
                    ],
                    "barpolar": [
                      {
                        "marker": {
                          "line": {
                            "color": "#E5ECF6",
                            "width": 0.5
                          },
                          "pattern": {
                            "fillmode": "overlay",
                            "size": 10,
                            "solidity": 0.2
                          }
                        },
                        "type": "barpolar"
                      }
                    ],
                    "carpet": [
                      {
                        "aaxis": {
                          "endlinecolor": "#2a3f5f",
                          "gridcolor": "white",
                          "linecolor": "white",
                          "minorgridcolor": "white",
                          "startlinecolor": "#2a3f5f"
                        },
                        "baxis": {
                          "endlinecolor": "#2a3f5f",
                          "gridcolor": "white",
                          "linecolor": "white",
                          "minorgridcolor": "white",
                          "startlinecolor": "#2a3f5f"
                        },
                        "type": "carpet"
                      }
                    ],
                    "choropleth": [
                      {
                        "colorbar": {
                          "outlinewidth": 0,
                          "ticks": ""
                        },
                        "type": "choropleth"
                      }
                    ],
                    "contour": [
                      {
                        "colorbar": {
                          "outlinewidth": 0,
                          "ticks": ""
                        },
                        "colorscale": [
                          [
                            0,
                            "#0d0887"
                          ],
                          [
                            0.1111111111111111,
                            "#46039f"
                          ],
                          [
                            0.2222222222222222,
                            "#7201a8"
                          ],
                          [
                            0.3333333333333333,
                            "#9c179e"
                          ],
                          [
                            0.4444444444444444,
                            "#bd3786"
                          ],
                          [
                            0.5555555555555556,
                            "#d8576b"
                          ],
                          [
                            0.6666666666666666,
                            "#ed7953"
                          ],
                          [
                            0.7777777777777778,
                            "#fb9f3a"
                          ],
                          [
                            0.8888888888888888,
                            "#fdca26"
                          ],
                          [
                            1,
                            "#f0f921"
                          ]
                        ],
                        "type": "contour"
                      }
                    ],
                    "contourcarpet": [
                      {
                        "colorbar": {
                          "outlinewidth": 0,
                          "ticks": ""
                        },
                        "type": "contourcarpet"
                      }
                    ],
                    "heatmap": [
                      {
                        "colorbar": {
                          "outlinewidth": 0,
                          "ticks": ""
                        },
                        "colorscale": [
                          [
                            0,
                            "#0d0887"
                          ],
                          [
                            0.1111111111111111,
                            "#46039f"
                          ],
                          [
                            0.2222222222222222,
                            "#7201a8"
                          ],
                          [
                            0.3333333333333333,
                            "#9c179e"
                          ],
                          [
                            0.4444444444444444,
                            "#bd3786"
                          ],
                          [
                            0.5555555555555556,
                            "#d8576b"
                          ],
                          [
                            0.6666666666666666,
                            "#ed7953"
                          ],
                          [
                            0.7777777777777778,
                            "#fb9f3a"
                          ],
                          [
                            0.8888888888888888,
                            "#fdca26"
                          ],
                          [
                            1,
                            "#f0f921"
                          ]
                        ],
                        "type": "heatmap"
                      }
                    ],
                    "heatmapgl": [
                      {
                        "colorbar": {
                          "outlinewidth": 0,
                          "ticks": ""
                        },
                        "colorscale": [
                          [
                            0,
                            "#0d0887"
                          ],
                          [
                            0.1111111111111111,
                            "#46039f"
                          ],
                          [
                            0.2222222222222222,
                            "#7201a8"
                          ],
                          [
                            0.3333333333333333,
                            "#9c179e"
                          ],
                          [
                            0.4444444444444444,
                            "#bd3786"
                          ],
                          [
                            0.5555555555555556,
                            "#d8576b"
                          ],
                          [
                            0.6666666666666666,
                            "#ed7953"
                          ],
                          [
                            0.7777777777777778,
                            "#fb9f3a"
                          ],
                          [
                            0.8888888888888888,
                            "#fdca26"
                          ],
                          [
                            1,
                            "#f0f921"
                          ]
                        ],
                        "type": "heatmapgl"
                      }
                    ],
                    "histogram": [
                      {
                        "marker": {
                          "pattern": {
                            "fillmode": "overlay",
                            "size": 10,
                            "solidity": 0.2
                          }
                        },
                        "type": "histogram"
                      }
                    ],
                    "histogram2d": [
                      {
                        "colorbar": {
                          "outlinewidth": 0,
                          "ticks": ""
                        },
                        "colorscale": [
                          [
                            0,
                            "#0d0887"
                          ],
                          [
                            0.1111111111111111,
                            "#46039f"
                          ],
                          [
                            0.2222222222222222,
                            "#7201a8"
                          ],
                          [
                            0.3333333333333333,
                            "#9c179e"
                          ],
                          [
                            0.4444444444444444,
                            "#bd3786"
                          ],
                          [
                            0.5555555555555556,
                            "#d8576b"
                          ],
                          [
                            0.6666666666666666,
                            "#ed7953"
                          ],
                          [
                            0.7777777777777778,
                            "#fb9f3a"
                          ],
                          [
                            0.8888888888888888,
                            "#fdca26"
                          ],
                          [
                            1,
                            "#f0f921"
                          ]
                        ],
                        "type": "histogram2d"
                      }
                    ],
                    "histogram2dcontour": [
                      {
                        "colorbar": {
                          "outlinewidth": 0,
                          "ticks": ""
                        },
                        "colorscale": [
                          [
                            0,
                            "#0d0887"
                          ],
                          [
                            0.1111111111111111,
                            "#46039f"
                          ],
                          [
                            0.2222222222222222,
                            "#7201a8"
                          ],
                          [
                            0.3333333333333333,
                            "#9c179e"
                          ],
                          [
                            0.4444444444444444,
                            "#bd3786"
                          ],
                          [
                            0.5555555555555556,
                            "#d8576b"
                          ],
                          [
                            0.6666666666666666,
                            "#ed7953"
                          ],
                          [
                            0.7777777777777778,
                            "#fb9f3a"
                          ],
                          [
                            0.8888888888888888,
                            "#fdca26"
                          ],
                          [
                            1,
                            "#f0f921"
                          ]
                        ],
                        "type": "histogram2dcontour"
                      }
                    ],
                    "mesh3d": [
                      {
                        "colorbar": {
                          "outlinewidth": 0,
                          "ticks": ""
                        },
                        "type": "mesh3d"
                      }
                    ],
                    "parcoords": [
                      {
                        "line": {
                          "colorbar": {
                            "outlinewidth": 0,
                            "ticks": ""
                          }
                        },
                        "type": "parcoords"
                      }
                    ],
                    "pie": [
                      {
                        "automargin": true,
                        "type": "pie"
                      }
                    ],
                    "scatter": [
                      {
                        "fillpattern": {
                          "fillmode": "overlay",
                          "size": 10,
                          "solidity": 0.2
                        },
                        "type": "scatter"
                      }
                    ],
                    "scatter3d": [
                      {
                        "line": {
                          "colorbar": {
                            "outlinewidth": 0,
                            "ticks": ""
                          }
                        },
                        "marker": {
                          "colorbar": {
                            "outlinewidth": 0,
                            "ticks": ""
                          }
                        },
                        "type": "scatter3d"
                      }
                    ],
                    "scattercarpet": [
                      {
                        "marker": {
                          "colorbar": {
                            "outlinewidth": 0,
                            "ticks": ""
                          }
                        },
                        "type": "scattercarpet"
                      }
                    ],
                    "scattergeo": [
                      {
                        "marker": {
                          "colorbar": {
                            "outlinewidth": 0,
                            "ticks": ""
                          }
                        },
                        "type": "scattergeo"
                      }
                    ],
                    "scattergl": [
                      {
                        "marker": {
                          "colorbar": {
                            "outlinewidth": 0,
                            "ticks": ""
                          }
                        },
                        "type": "scattergl"
                      }
                    ],
                    "scattermapbox": [
                      {
                        "marker": {
                          "colorbar": {
                            "outlinewidth": 0,
                            "ticks": ""
                          }
                        },
                        "type": "scattermapbox"
                      }
                    ],
                    "scatterpolar": [
                      {
                        "marker": {
                          "colorbar": {
                            "outlinewidth": 0,
                            "ticks": ""
                          }
                        },
                        "type": "scatterpolar"
                      }
                    ],
                    "scatterpolargl": [
                      {
                        "marker": {
                          "colorbar": {
                            "outlinewidth": 0,
                            "ticks": ""
                          }
                        },
                        "type": "scatterpolargl"
                      }
                    ],
                    "scatterternary": [
                      {
                        "marker": {
                          "colorbar": {
                            "outlinewidth": 0,
                            "ticks": ""
                          }
                        },
                        "type": "scatterternary"
                      }
                    ],
                    "surface": [
                      {
                        "colorbar": {
                          "outlinewidth": 0,
                          "ticks": ""
                        },
                        "colorscale": [
                          [
                            0,
                            "#0d0887"
                          ],
                          [
                            0.1111111111111111,
                            "#46039f"
                          ],
                          [
                            0.2222222222222222,
                            "#7201a8"
                          ],
                          [
                            0.3333333333333333,
                            "#9c179e"
                          ],
                          [
                            0.4444444444444444,
                            "#bd3786"
                          ],
                          [
                            0.5555555555555556,
                            "#d8576b"
                          ],
                          [
                            0.6666666666666666,
                            "#ed7953"
                          ],
                          [
                            0.7777777777777778,
                            "#fb9f3a"
                          ],
                          [
                            0.8888888888888888,
                            "#fdca26"
                          ],
                          [
                            1,
                            "#f0f921"
                          ]
                        ],
                        "type": "surface"
                      }
                    ],
                    "table": [
                      {
                        "cells": {
                          "fill": {
                            "color": "#EBF0F8"
                          },
                          "line": {
                            "color": "white"
                          }
                        },
                        "header": {
                          "fill": {
                            "color": "#C8D4E3"
                          },
                          "line": {
                            "color": "white"
                          }
                        },
                        "type": "table"
                      }
                    ]
                  },
                  "layout": {
                    "annotationdefaults": {
                      "arrowcolor": "#2a3f5f",
                      "arrowhead": 0,
                      "arrowwidth": 1
                    },
                    "autotypenumbers": "strict",
                    "coloraxis": {
                      "colorbar": {
                        "outlinewidth": 0,
                        "ticks": ""
                      }
                    },
                    "colorscale": {
                      "diverging": [
                        [
                          0,
                          "#8e0152"
                        ],
                        [
                          0.1,
                          "#c51b7d"
                        ],
                        [
                          0.2,
                          "#de77ae"
                        ],
                        [
                          0.3,
                          "#f1b6da"
                        ],
                        [
                          0.4,
                          "#fde0ef"
                        ],
                        [
                          0.5,
                          "#f7f7f7"
                        ],
                        [
                          0.6,
                          "#e6f5d0"
                        ],
                        [
                          0.7,
                          "#b8e186"
                        ],
                        [
                          0.8,
                          "#7fbc41"
                        ],
                        [
                          0.9,
                          "#4d9221"
                        ],
                        [
                          1,
                          "#276419"
                        ]
                      ],
                      "sequential": [
                        [
                          0,
                          "#0d0887"
                        ],
                        [
                          0.1111111111111111,
                          "#46039f"
                        ],
                        [
                          0.2222222222222222,
                          "#7201a8"
                        ],
                        [
                          0.3333333333333333,
                          "#9c179e"
                        ],
                        [
                          0.4444444444444444,
                          "#bd3786"
                        ],
                        [
                          0.5555555555555556,
                          "#d8576b"
                        ],
                        [
                          0.6666666666666666,
                          "#ed7953"
                        ],
                        [
                          0.7777777777777778,
                          "#fb9f3a"
                        ],
                        [
                          0.8888888888888888,
                          "#fdca26"
                        ],
                        [
                          1,
                          "#f0f921"
                        ]
                      ],
                      "sequentialminus": [
                        [
                          0,
                          "#0d0887"
                        ],
                        [
                          0.1111111111111111,
                          "#46039f"
                        ],
                        [
                          0.2222222222222222,
                          "#7201a8"
                        ],
                        [
                          0.3333333333333333,
                          "#9c179e"
                        ],
                        [
                          0.4444444444444444,
                          "#bd3786"
                        ],
                        [
                          0.5555555555555556,
                          "#d8576b"
                        ],
                        [
                          0.6666666666666666,
                          "#ed7953"
                        ],
                        [
                          0.7777777777777778,
                          "#fb9f3a"
                        ],
                        [
                          0.8888888888888888,
                          "#fdca26"
                        ],
                        [
                          1,
                          "#f0f921"
                        ]
                      ]
                    },
                    "colorway": [
                      "#636efa",
                      "#EF553B",
                      "#00cc96",
                      "#ab63fa",
                      "#FFA15A",
                      "#19d3f3",
                      "#FF6692",
                      "#B6E880",
                      "#FF97FF",
                      "#FECB52"
                    ],
                    "font": {
                      "color": "#2a3f5f"
                    },
                    "geo": {
                      "bgcolor": "white",
                      "lakecolor": "white",
                      "landcolor": "#E5ECF6",
                      "showlakes": true,
                      "showland": true,
                      "subunitcolor": "white"
                    },
                    "hoverlabel": {
                      "align": "left"
                    },
                    "hovermode": "closest",
                    "mapbox": {
                      "style": "light"
                    },
                    "paper_bgcolor": "white",
                    "plot_bgcolor": "#E5ECF6",
                    "polar": {
                      "angularaxis": {
                        "gridcolor": "white",
                        "linecolor": "white",
                        "ticks": ""
                      },
                      "bgcolor": "#E5ECF6",
                      "radialaxis": {
                        "gridcolor": "white",
                        "linecolor": "white",
                        "ticks": ""
                      }
                    },
                    "scene": {
                      "xaxis": {
                        "backgroundcolor": "#E5ECF6",
                        "gridcolor": "white",
                        "gridwidth": 2,
                        "linecolor": "white",
                        "showbackground": true,
                        "ticks": "",
                        "zerolinecolor": "white"
                      },
                      "yaxis": {
                        "backgroundcolor": "#E5ECF6",
                        "gridcolor": "white",
                        "gridwidth": 2,
                        "linecolor": "white",
                        "showbackground": true,
                        "ticks": "",
                        "zerolinecolor": "white"
                      },
                      "zaxis": {
                        "backgroundcolor": "#E5ECF6",
                        "gridcolor": "white",
                        "gridwidth": 2,
                        "linecolor": "white",
                        "showbackground": true,
                        "ticks": "",
                        "zerolinecolor": "white"
                      }
                    },
                    "shapedefaults": {
                      "line": {
                        "color": "#2a3f5f"
                      }
                    },
                    "ternary": {
                      "aaxis": {
                        "gridcolor": "white",
                        "linecolor": "white",
                        "ticks": ""
                      },
                      "baxis": {
                        "gridcolor": "white",
                        "linecolor": "white",
                        "ticks": ""
                      },
                      "bgcolor": "#E5ECF6",
                      "caxis": {
                        "gridcolor": "white",
                        "linecolor": "white",
                        "ticks": ""
                      }
                    },
                    "title": {
                      "x": 0.05
                    },
                    "xaxis": {
                      "automargin": true,
                      "gridcolor": "white",
                      "linecolor": "white",
                      "ticks": "",
                      "title": {
                        "standoff": 15
                      },
                      "zerolinecolor": "white",
                      "zerolinewidth": 2
                    },
                    "yaxis": {
                      "automargin": true,
                      "gridcolor": "white",
                      "linecolor": "white",
                      "ticks": "",
                      "title": {
                        "standoff": 15
                      },
                      "zerolinecolor": "white",
                      "zerolinewidth": 2
                    }
                  }
                },
                "xaxis": {
                  "anchor": "y",
                  "categoryorder": "total descending",
                  "domain": [
                    0,
                    1
                  ],
                  "title": {
                    "text": "Company"
                  }
                },
                "yaxis": {
                  "anchor": "x",
                  "domain": [
                    0,
                    1
                  ],
                  "title": {
                    "text": "Return"
                  }
                }
              }
            }
          },
          "metadata": {},
          "output_type": "display_data"
        }
      ],
      "source": [
        "fig = px.bar(mu_vector.reset_index(), \n",
        "             y = 'Return', x = 'Company')\n",
        "fig.update_layout(xaxis={'categoryorder':'total descending'})\n",
        "fig.show()"
      ]
    },
    {
      "attachments": {},
      "cell_type": "markdown",
      "metadata": {
        "id": "BxLjIHWm0Ux0"
      },
      "source": [
        "How about volatility (as a proxy for risk)?"
      ]
    },
    {
      "cell_type": "code",
      "execution_count": 11,
      "metadata": {
        "colab": {
          "base_uri": "https://localhost:8080/",
          "height": 542
        },
        "id": "eqfJkNUT0XQM",
        "outputId": "a1cdce61-ff34-4e39-dfc5-70aa12e73335"
      },
      "outputs": [
        {
          "data": {
            "application/vnd.plotly.v1+json": {
              "config": {
                "plotlyServerURL": "https://plot.ly"
              },
              "data": [
                {
                  "alignmentgroup": "True",
                  "hovertemplate": "Company=%{x}<br>Return=%{y}<extra></extra>",
                  "legendgroup": "",
                  "marker": {
                    "color": "red",
                    "pattern": {
                      "shape": ""
                    }
                  },
                  "name": "",
                  "offsetgroup": "",
                  "orientation": "v",
                  "showlegend": false,
                  "textposition": "auto",
                  "type": "bar",
                  "x": [
                    "AAPL",
                    "BA",
                    "BAC",
                    "C",
                    "CSCO",
                    "CVS",
                    "CVX",
                    "D",
                    "DIS",
                    "F",
                    "GE",
                    "HD",
                    "IBM",
                    "INTC",
                    "JNJ",
                    "JPM",
                    "K",
                    "MCK",
                    "MRK",
                    "MSFT",
                    "ORCL",
                    "PFE",
                    "PG",
                    "T",
                    "UNH",
                    "UPS",
                    "VZ",
                    "WFC",
                    "WMT",
                    "XOM"
                  ],
                  "xaxis": "x",
                  "y": [
                    0.55749966831458,
                    0.36166800937401483,
                    0.41461423136241954,
                    0.3970301867416748,
                    0.24061102219580527,
                    0.20077948604790904,
                    0.19225372206096775,
                    0.1473004210651229,
                    0.22913838296328523,
                    0.9091998402215155,
                    0.3068812373819811,
                    0.21982167712803566,
                    0.21673695154722308,
                    0.24744977432814522,
                    0.10880812623044021,
                    0.22219070349304293,
                    0.12377293979326086,
                    0.3154096735345231,
                    0.21883333877655806,
                    0.26527722309499674,
                    0.2058373704117096,
                    0.13802625735089624,
                    0.1203532948658192,
                    0.22417085944609305,
                    0.24922818402523556,
                    0.2054240666187874,
                    0.14937227375699058,
                    0.20008503178081355,
                    0.1698534652770804,
                    0.19100998600718933
                  ],
                  "yaxis": "y"
                }
              ],
              "layout": {
                "barmode": "relative",
                "legend": {
                  "tracegroupgap": 0
                },
                "margin": {
                  "t": 60
                },
                "template": {
                  "data": {
                    "bar": [
                      {
                        "error_x": {
                          "color": "#2a3f5f"
                        },
                        "error_y": {
                          "color": "#2a3f5f"
                        },
                        "marker": {
                          "line": {
                            "color": "#E5ECF6",
                            "width": 0.5
                          },
                          "pattern": {
                            "fillmode": "overlay",
                            "size": 10,
                            "solidity": 0.2
                          }
                        },
                        "type": "bar"
                      }
                    ],
                    "barpolar": [
                      {
                        "marker": {
                          "line": {
                            "color": "#E5ECF6",
                            "width": 0.5
                          },
                          "pattern": {
                            "fillmode": "overlay",
                            "size": 10,
                            "solidity": 0.2
                          }
                        },
                        "type": "barpolar"
                      }
                    ],
                    "carpet": [
                      {
                        "aaxis": {
                          "endlinecolor": "#2a3f5f",
                          "gridcolor": "white",
                          "linecolor": "white",
                          "minorgridcolor": "white",
                          "startlinecolor": "#2a3f5f"
                        },
                        "baxis": {
                          "endlinecolor": "#2a3f5f",
                          "gridcolor": "white",
                          "linecolor": "white",
                          "minorgridcolor": "white",
                          "startlinecolor": "#2a3f5f"
                        },
                        "type": "carpet"
                      }
                    ],
                    "choropleth": [
                      {
                        "colorbar": {
                          "outlinewidth": 0,
                          "ticks": ""
                        },
                        "type": "choropleth"
                      }
                    ],
                    "contour": [
                      {
                        "colorbar": {
                          "outlinewidth": 0,
                          "ticks": ""
                        },
                        "colorscale": [
                          [
                            0,
                            "#0d0887"
                          ],
                          [
                            0.1111111111111111,
                            "#46039f"
                          ],
                          [
                            0.2222222222222222,
                            "#7201a8"
                          ],
                          [
                            0.3333333333333333,
                            "#9c179e"
                          ],
                          [
                            0.4444444444444444,
                            "#bd3786"
                          ],
                          [
                            0.5555555555555556,
                            "#d8576b"
                          ],
                          [
                            0.6666666666666666,
                            "#ed7953"
                          ],
                          [
                            0.7777777777777778,
                            "#fb9f3a"
                          ],
                          [
                            0.8888888888888888,
                            "#fdca26"
                          ],
                          [
                            1,
                            "#f0f921"
                          ]
                        ],
                        "type": "contour"
                      }
                    ],
                    "contourcarpet": [
                      {
                        "colorbar": {
                          "outlinewidth": 0,
                          "ticks": ""
                        },
                        "type": "contourcarpet"
                      }
                    ],
                    "heatmap": [
                      {
                        "colorbar": {
                          "outlinewidth": 0,
                          "ticks": ""
                        },
                        "colorscale": [
                          [
                            0,
                            "#0d0887"
                          ],
                          [
                            0.1111111111111111,
                            "#46039f"
                          ],
                          [
                            0.2222222222222222,
                            "#7201a8"
                          ],
                          [
                            0.3333333333333333,
                            "#9c179e"
                          ],
                          [
                            0.4444444444444444,
                            "#bd3786"
                          ],
                          [
                            0.5555555555555556,
                            "#d8576b"
                          ],
                          [
                            0.6666666666666666,
                            "#ed7953"
                          ],
                          [
                            0.7777777777777778,
                            "#fb9f3a"
                          ],
                          [
                            0.8888888888888888,
                            "#fdca26"
                          ],
                          [
                            1,
                            "#f0f921"
                          ]
                        ],
                        "type": "heatmap"
                      }
                    ],
                    "heatmapgl": [
                      {
                        "colorbar": {
                          "outlinewidth": 0,
                          "ticks": ""
                        },
                        "colorscale": [
                          [
                            0,
                            "#0d0887"
                          ],
                          [
                            0.1111111111111111,
                            "#46039f"
                          ],
                          [
                            0.2222222222222222,
                            "#7201a8"
                          ],
                          [
                            0.3333333333333333,
                            "#9c179e"
                          ],
                          [
                            0.4444444444444444,
                            "#bd3786"
                          ],
                          [
                            0.5555555555555556,
                            "#d8576b"
                          ],
                          [
                            0.6666666666666666,
                            "#ed7953"
                          ],
                          [
                            0.7777777777777778,
                            "#fb9f3a"
                          ],
                          [
                            0.8888888888888888,
                            "#fdca26"
                          ],
                          [
                            1,
                            "#f0f921"
                          ]
                        ],
                        "type": "heatmapgl"
                      }
                    ],
                    "histogram": [
                      {
                        "marker": {
                          "pattern": {
                            "fillmode": "overlay",
                            "size": 10,
                            "solidity": 0.2
                          }
                        },
                        "type": "histogram"
                      }
                    ],
                    "histogram2d": [
                      {
                        "colorbar": {
                          "outlinewidth": 0,
                          "ticks": ""
                        },
                        "colorscale": [
                          [
                            0,
                            "#0d0887"
                          ],
                          [
                            0.1111111111111111,
                            "#46039f"
                          ],
                          [
                            0.2222222222222222,
                            "#7201a8"
                          ],
                          [
                            0.3333333333333333,
                            "#9c179e"
                          ],
                          [
                            0.4444444444444444,
                            "#bd3786"
                          ],
                          [
                            0.5555555555555556,
                            "#d8576b"
                          ],
                          [
                            0.6666666666666666,
                            "#ed7953"
                          ],
                          [
                            0.7777777777777778,
                            "#fb9f3a"
                          ],
                          [
                            0.8888888888888888,
                            "#fdca26"
                          ],
                          [
                            1,
                            "#f0f921"
                          ]
                        ],
                        "type": "histogram2d"
                      }
                    ],
                    "histogram2dcontour": [
                      {
                        "colorbar": {
                          "outlinewidth": 0,
                          "ticks": ""
                        },
                        "colorscale": [
                          [
                            0,
                            "#0d0887"
                          ],
                          [
                            0.1111111111111111,
                            "#46039f"
                          ],
                          [
                            0.2222222222222222,
                            "#7201a8"
                          ],
                          [
                            0.3333333333333333,
                            "#9c179e"
                          ],
                          [
                            0.4444444444444444,
                            "#bd3786"
                          ],
                          [
                            0.5555555555555556,
                            "#d8576b"
                          ],
                          [
                            0.6666666666666666,
                            "#ed7953"
                          ],
                          [
                            0.7777777777777778,
                            "#fb9f3a"
                          ],
                          [
                            0.8888888888888888,
                            "#fdca26"
                          ],
                          [
                            1,
                            "#f0f921"
                          ]
                        ],
                        "type": "histogram2dcontour"
                      }
                    ],
                    "mesh3d": [
                      {
                        "colorbar": {
                          "outlinewidth": 0,
                          "ticks": ""
                        },
                        "type": "mesh3d"
                      }
                    ],
                    "parcoords": [
                      {
                        "line": {
                          "colorbar": {
                            "outlinewidth": 0,
                            "ticks": ""
                          }
                        },
                        "type": "parcoords"
                      }
                    ],
                    "pie": [
                      {
                        "automargin": true,
                        "type": "pie"
                      }
                    ],
                    "scatter": [
                      {
                        "fillpattern": {
                          "fillmode": "overlay",
                          "size": 10,
                          "solidity": 0.2
                        },
                        "type": "scatter"
                      }
                    ],
                    "scatter3d": [
                      {
                        "line": {
                          "colorbar": {
                            "outlinewidth": 0,
                            "ticks": ""
                          }
                        },
                        "marker": {
                          "colorbar": {
                            "outlinewidth": 0,
                            "ticks": ""
                          }
                        },
                        "type": "scatter3d"
                      }
                    ],
                    "scattercarpet": [
                      {
                        "marker": {
                          "colorbar": {
                            "outlinewidth": 0,
                            "ticks": ""
                          }
                        },
                        "type": "scattercarpet"
                      }
                    ],
                    "scattergeo": [
                      {
                        "marker": {
                          "colorbar": {
                            "outlinewidth": 0,
                            "ticks": ""
                          }
                        },
                        "type": "scattergeo"
                      }
                    ],
                    "scattergl": [
                      {
                        "marker": {
                          "colorbar": {
                            "outlinewidth": 0,
                            "ticks": ""
                          }
                        },
                        "type": "scattergl"
                      }
                    ],
                    "scattermapbox": [
                      {
                        "marker": {
                          "colorbar": {
                            "outlinewidth": 0,
                            "ticks": ""
                          }
                        },
                        "type": "scattermapbox"
                      }
                    ],
                    "scatterpolar": [
                      {
                        "marker": {
                          "colorbar": {
                            "outlinewidth": 0,
                            "ticks": ""
                          }
                        },
                        "type": "scatterpolar"
                      }
                    ],
                    "scatterpolargl": [
                      {
                        "marker": {
                          "colorbar": {
                            "outlinewidth": 0,
                            "ticks": ""
                          }
                        },
                        "type": "scatterpolargl"
                      }
                    ],
                    "scatterternary": [
                      {
                        "marker": {
                          "colorbar": {
                            "outlinewidth": 0,
                            "ticks": ""
                          }
                        },
                        "type": "scatterternary"
                      }
                    ],
                    "surface": [
                      {
                        "colorbar": {
                          "outlinewidth": 0,
                          "ticks": ""
                        },
                        "colorscale": [
                          [
                            0,
                            "#0d0887"
                          ],
                          [
                            0.1111111111111111,
                            "#46039f"
                          ],
                          [
                            0.2222222222222222,
                            "#7201a8"
                          ],
                          [
                            0.3333333333333333,
                            "#9c179e"
                          ],
                          [
                            0.4444444444444444,
                            "#bd3786"
                          ],
                          [
                            0.5555555555555556,
                            "#d8576b"
                          ],
                          [
                            0.6666666666666666,
                            "#ed7953"
                          ],
                          [
                            0.7777777777777778,
                            "#fb9f3a"
                          ],
                          [
                            0.8888888888888888,
                            "#fdca26"
                          ],
                          [
                            1,
                            "#f0f921"
                          ]
                        ],
                        "type": "surface"
                      }
                    ],
                    "table": [
                      {
                        "cells": {
                          "fill": {
                            "color": "#EBF0F8"
                          },
                          "line": {
                            "color": "white"
                          }
                        },
                        "header": {
                          "fill": {
                            "color": "#C8D4E3"
                          },
                          "line": {
                            "color": "white"
                          }
                        },
                        "type": "table"
                      }
                    ]
                  },
                  "layout": {
                    "annotationdefaults": {
                      "arrowcolor": "#2a3f5f",
                      "arrowhead": 0,
                      "arrowwidth": 1
                    },
                    "autotypenumbers": "strict",
                    "coloraxis": {
                      "colorbar": {
                        "outlinewidth": 0,
                        "ticks": ""
                      }
                    },
                    "colorscale": {
                      "diverging": [
                        [
                          0,
                          "#8e0152"
                        ],
                        [
                          0.1,
                          "#c51b7d"
                        ],
                        [
                          0.2,
                          "#de77ae"
                        ],
                        [
                          0.3,
                          "#f1b6da"
                        ],
                        [
                          0.4,
                          "#fde0ef"
                        ],
                        [
                          0.5,
                          "#f7f7f7"
                        ],
                        [
                          0.6,
                          "#e6f5d0"
                        ],
                        [
                          0.7,
                          "#b8e186"
                        ],
                        [
                          0.8,
                          "#7fbc41"
                        ],
                        [
                          0.9,
                          "#4d9221"
                        ],
                        [
                          1,
                          "#276419"
                        ]
                      ],
                      "sequential": [
                        [
                          0,
                          "#0d0887"
                        ],
                        [
                          0.1111111111111111,
                          "#46039f"
                        ],
                        [
                          0.2222222222222222,
                          "#7201a8"
                        ],
                        [
                          0.3333333333333333,
                          "#9c179e"
                        ],
                        [
                          0.4444444444444444,
                          "#bd3786"
                        ],
                        [
                          0.5555555555555556,
                          "#d8576b"
                        ],
                        [
                          0.6666666666666666,
                          "#ed7953"
                        ],
                        [
                          0.7777777777777778,
                          "#fb9f3a"
                        ],
                        [
                          0.8888888888888888,
                          "#fdca26"
                        ],
                        [
                          1,
                          "#f0f921"
                        ]
                      ],
                      "sequentialminus": [
                        [
                          0,
                          "#0d0887"
                        ],
                        [
                          0.1111111111111111,
                          "#46039f"
                        ],
                        [
                          0.2222222222222222,
                          "#7201a8"
                        ],
                        [
                          0.3333333333333333,
                          "#9c179e"
                        ],
                        [
                          0.4444444444444444,
                          "#bd3786"
                        ],
                        [
                          0.5555555555555556,
                          "#d8576b"
                        ],
                        [
                          0.6666666666666666,
                          "#ed7953"
                        ],
                        [
                          0.7777777777777778,
                          "#fb9f3a"
                        ],
                        [
                          0.8888888888888888,
                          "#fdca26"
                        ],
                        [
                          1,
                          "#f0f921"
                        ]
                      ]
                    },
                    "colorway": [
                      "#636efa",
                      "#EF553B",
                      "#00cc96",
                      "#ab63fa",
                      "#FFA15A",
                      "#19d3f3",
                      "#FF6692",
                      "#B6E880",
                      "#FF97FF",
                      "#FECB52"
                    ],
                    "font": {
                      "color": "#2a3f5f"
                    },
                    "geo": {
                      "bgcolor": "white",
                      "lakecolor": "white",
                      "landcolor": "#E5ECF6",
                      "showlakes": true,
                      "showland": true,
                      "subunitcolor": "white"
                    },
                    "hoverlabel": {
                      "align": "left"
                    },
                    "hovermode": "closest",
                    "mapbox": {
                      "style": "light"
                    },
                    "paper_bgcolor": "white",
                    "plot_bgcolor": "#E5ECF6",
                    "polar": {
                      "angularaxis": {
                        "gridcolor": "white",
                        "linecolor": "white",
                        "ticks": ""
                      },
                      "bgcolor": "#E5ECF6",
                      "radialaxis": {
                        "gridcolor": "white",
                        "linecolor": "white",
                        "ticks": ""
                      }
                    },
                    "scene": {
                      "xaxis": {
                        "backgroundcolor": "#E5ECF6",
                        "gridcolor": "white",
                        "gridwidth": 2,
                        "linecolor": "white",
                        "showbackground": true,
                        "ticks": "",
                        "zerolinecolor": "white"
                      },
                      "yaxis": {
                        "backgroundcolor": "#E5ECF6",
                        "gridcolor": "white",
                        "gridwidth": 2,
                        "linecolor": "white",
                        "showbackground": true,
                        "ticks": "",
                        "zerolinecolor": "white"
                      },
                      "zaxis": {
                        "backgroundcolor": "#E5ECF6",
                        "gridcolor": "white",
                        "gridwidth": 2,
                        "linecolor": "white",
                        "showbackground": true,
                        "ticks": "",
                        "zerolinecolor": "white"
                      }
                    },
                    "shapedefaults": {
                      "line": {
                        "color": "#2a3f5f"
                      }
                    },
                    "ternary": {
                      "aaxis": {
                        "gridcolor": "white",
                        "linecolor": "white",
                        "ticks": ""
                      },
                      "baxis": {
                        "gridcolor": "white",
                        "linecolor": "white",
                        "ticks": ""
                      },
                      "bgcolor": "#E5ECF6",
                      "caxis": {
                        "gridcolor": "white",
                        "linecolor": "white",
                        "ticks": ""
                      }
                    },
                    "title": {
                      "x": 0.05
                    },
                    "xaxis": {
                      "automargin": true,
                      "gridcolor": "white",
                      "linecolor": "white",
                      "ticks": "",
                      "title": {
                        "standoff": 15
                      },
                      "zerolinecolor": "white",
                      "zerolinewidth": 2
                    },
                    "yaxis": {
                      "automargin": true,
                      "gridcolor": "white",
                      "linecolor": "white",
                      "ticks": "",
                      "title": {
                        "standoff": 15
                      },
                      "zerolinecolor": "white",
                      "zerolinewidth": 2
                    }
                  }
                },
                "xaxis": {
                  "anchor": "y",
                  "categoryorder": "total descending",
                  "domain": [
                    0,
                    1
                  ],
                  "title": {
                    "text": "Company"
                  }
                },
                "yaxis": {
                  "anchor": "x",
                  "domain": [
                    0,
                    1
                  ],
                  "title": {
                    "text": "Return"
                  }
                }
              }
            }
          },
          "metadata": {},
          "output_type": "display_data"
        }
      ],
      "source": [
        "fig = px.bar(data.pivot_table(index = 'Company', values = 'Return', aggfunc = np.std).reset_index(), \n",
        "             y = 'Return', x = 'Company')\n",
        "fig.update_layout(xaxis={'categoryorder':'total descending'})\n",
        "fig.update_traces(marker_color = 'red')\n",
        "fig.show()"
      ]
    },
    {
      "attachments": {},
      "cell_type": "markdown",
      "metadata": {
        "id": "N2swI1N9sZ1J"
      },
      "source": [
        "Now let's look at correlations.\n"
      ]
    },
    {
      "cell_type": "code",
      "execution_count": 12,
      "metadata": {
        "colab": {
          "base_uri": "https://localhost:8080/",
          "height": 301
        },
        "id": "G7CozLKKsexo",
        "outputId": "15b69df8-60d7-4f66-90a5-50402717f35f"
      },
      "outputs": [
        {
          "data": {
            "image/png": "[encoded data removed]",
            "text/plain": [
              "<Figure size 640x480 with 2 Axes>"
            ]
          },
          "metadata": {},
          "output_type": "display_data"
        }
      ],
      "source": [
        "Corr_mat = data.pivot(index = 'Year', columns = 'Company', values = 'Return').fillna(0).corr().reset_index(drop=True)\n",
        "Cov_mat = data.pivot(index = 'Year', columns = 'Company', values = 'Return').fillna(0).cov().reset_index(drop=True)\n",
        "\n",
        "sns.heatmap(Corr_mat,\n",
        "            yticklabels = data['Company'].unique())\n",
        "sns.set(rc={'figure.figsize':(11,7)})"
      ]
    },
    {
      "attachments": {},
      "cell_type": "markdown",
      "metadata": {
        "id": "d5bhXVJH1W8r"
      },
      "source": [
        "### How to invest?\n",
        "\n",
        "#### If we don't care about emissions\n",
        "\n",
        "The portfolio that maximizes the Sharpe ratio is proportional to $\\boldsymbol{\\Sigma}^{-1}\\boldsymbol{\\mu}$ - assuming zero interest rates (which is not a major issue in recent times).  $\\boldsymbol{\\Sigma}$ is the covariance matrix of asset returns and $\\boldsymbol{\\mu}$ is their average (vector). \n",
        "In this case, some assets will have negative weights, which means that it seems optimal to sell them short (though, in practice, this is rarely done).  \n",
        "Let's have a look at the portfolio that would have been optimal if we had known the full history 2015-2021."
      ]
    },
    {
      "cell_type": "code",
      "execution_count": 13,
      "metadata": {
        "colab": {
          "base_uri": "https://localhost:8080/"
        },
        "id": "nfwmN7E87acZ",
        "outputId": "72e89d1c-8832-42be-fedb-bd9c3bc46b31"
      },
      "outputs": [
        {
          "data": {
            "text/plain": [
              "array([ 0.18707626,  0.03601441, -0.04740887, -0.13104284, -0.01393511,\n",
              "        0.01709558,  0.03857643,  0.02929774,  0.10495068, -0.07387131,\n",
              "       -0.08764205,  0.18463295, -0.01698652, -0.05600751,  0.05706445,\n",
              "        0.07518016,  0.01316541, -0.00667987,  0.03837651,  0.09359906,\n",
              "        0.06646596,  0.0633055 ,  0.04362039,  0.04138137,  0.0764993 ,\n",
              "        0.01643579,  0.08226804,  0.06592874,  0.09649338,  0.00614596])"
            ]
          },
          "execution_count": 13,
          "metadata": {},
          "output_type": "execute_result"
        }
      ],
      "source": [
        "w = np.dot(inv(Cov_mat.to_numpy() + 0.1*np.identity(30)), mu_vector.to_numpy()) # We use shrinkage because the matrix is singular\n",
        "w = w / sum(w)\n",
        "w = np.concatenate(w)\n",
        "w"
      ]
    },
    {
      "cell_type": "code",
      "execution_count": 14,
      "metadata": {
        "colab": {
          "base_uri": "https://localhost:8080/",
          "height": 449
        },
        "id": "jRdh8j4J48R8",
        "outputId": "6a4d2374-b480-48b4-f54c-4146c2bd9bfe"
      },
      "outputs": [
        {
          "data": {
            "image/png": "[encoded data removed]",
            "text/plain": [
              "<Figure size 1100x700 with 1 Axes>"
            ]
          },
          "metadata": {},
          "output_type": "display_data"
        }
      ],
      "source": [
        "sns.barplot(data = pd.DataFrame({'Company' : data['Company'].unique(),\n",
        "                                 'weight before emissions' : w}),\n",
        "            x = 'Company', y = 'weight before emissions')\n",
        "sns.set(rc={'figure.figsize':(18,5)})"
      ]
    },
    {
      "attachments": {},
      "cell_type": "markdown",
      "metadata": {
        "id": "6mVFpb9Y_9rI"
      },
      "source": [
        "#### Including emissions in the decision process\n",
        "Ok, so now let's look at what would happen if we take emissions into consideration.  \n",
        "First, let's extract them from the data & impute."
      ]
    },
    {
      "cell_type": "code",
      "execution_count": 15,
      "metadata": {
        "colab": {
          "base_uri": "https://localhost:8080/"
        },
        "id": "Enf4hS3xMuav",
        "outputId": "a70b8673-1a1a-4713-b946-4fbaeb883764"
      },
      "outputs": [
        {
          "data": {
            "text/plain": [
              "array([0.00284696, 0.00344692, 0.00246871, 0.00192435, 0.00215946,\n",
              "       0.00368649, 0.19028238, 0.129475  , 0.00581884, 0.0144978 ,\n",
              "       0.01414016, 0.00675035, 0.00344626, 0.01508066, 0.00331806,\n",
              "       0.00241426, 0.00313186, 0.03333333, 0.00364625, 0.01144804,\n",
              "       0.00158153, 0.00464788, 0.0148298 , 0.02185465, 0.00053252,\n",
              "       0.046719  , 0.01361807, 0.00269303, 0.05652323, 0.38368415])"
            ]
          },
          "execution_count": 15,
          "metadata": {},
          "output_type": "execute_result"
        }
      ],
      "source": [
        "emissions = data.query('Year == 2019')['GHG_total']\n",
        "# Here we impute a value for Merck: the average of all 29 stocks (probably a bad choice)\n",
        "emissions = emissions.fillna(np.mean(emissions)).to_numpy() \n",
        "emissions = emissions/sum(emissions)\n",
        "emissions"
      ]
    },
    {
      "attachments": {},
      "cell_type": "markdown",
      "metadata": {
        "id": "j6ygiPVaNtiA"
      },
      "source": [
        "In order to penalize the stocks with large emissions, the easiest way is to shrink their returns. Below, we adjust the average returns to $\\boldsymbol{\\mu}-0.4\\textbf{E}$, where $\\textbf{E}$ is the vector of emissions normalized to sum to one."
      ]
    },
    {
      "cell_type": "code",
      "execution_count": 16,
      "metadata": {
        "colab": {
          "base_uri": "https://localhost:8080/"
        },
        "id": "LeXI8MjPN4RQ",
        "outputId": "a2ce8f18-e333-4efe-b4cd-a359b1b223f9"
      },
      "outputs": [
        {
          "data": {
            "text/plain": [
              "array([ 0.23790041,  0.07422144, -0.06039831, -0.14674493, -0.01042447,\n",
              "        0.03883678, -0.02988545, -0.0227746 ,  0.125699  , -0.10449308,\n",
              "       -0.0913163 ,  0.20217867,  0.01169897, -0.06269005,  0.07770957,\n",
              "        0.10016223,  0.02226261, -0.01853793,  0.06657219,  0.09040421,\n",
              "        0.09343134,  0.07648233,  0.05588148,  0.07764429,  0.0995954 ,\n",
              "       -0.00353389,  0.11559014,  0.10180939,  0.08795871, -0.20524015])"
            ]
          },
          "execution_count": 16,
          "metadata": {},
          "output_type": "execute_result"
        }
      ],
      "source": [
        "w_em = np.dot(inv(Cov_mat.to_numpy() + 0.1*np.identity(30)),          # We use shrinkage because the matrix is singular\n",
        "              np.concatenate(mu_vector.to_numpy())- 0.4 * emissions)  # We remove emissions! \n",
        "w_em = w_em / sum(w_em)\n",
        "w_em"
      ]
    },
    {
      "cell_type": "code",
      "execution_count": 17,
      "metadata": {
        "colab": {
          "base_uri": "https://localhost:8080/",
          "height": 339
        },
        "id": "tiBKUYYGrU8B",
        "outputId": "9702ee23-f855-4839-f5bf-874a676fa9ab"
      },
      "outputs": [
        {
          "data": {
            "image/png": "[encoded data removed]",
            "text/plain": [
              "<Figure size 1800x500 with 1 Axes>"
            ]
          },
          "metadata": {},
          "output_type": "display_data"
        }
      ],
      "source": [
        "sns.barplot(data = pd.DataFrame({'Company' : data['Company'].unique(),\n",
        "                                 'weight after emissions' : w_em}),\n",
        "            x = 'Company', y = 'weight after emissions')\n",
        "sns.set(rc={'figure.figsize':(18,5)})"
      ]
    },
    {
      "attachments": {},
      "cell_type": "markdown",
      "metadata": {
        "id": "CfTH_D3zsLzf"
      },
      "source": [
        "Chevron (CVX), at more markedly, Exxon Mobile (XOM) see their weights shrink...\n",
        "What's the impact on performance?"
      ]
    },
    {
      "cell_type": "code",
      "execution_count": 18,
      "metadata": {
        "colab": {
          "base_uri": "https://localhost:8080/"
        },
        "id": "JhzfP5musrTe",
        "outputId": "869f7a49-8278-41df-8301-8c09f980b6d8"
      },
      "outputs": [
        {
          "data": {
            "text/plain": [
              "0.22423232315968838"
            ]
          },
          "execution_count": 18,
          "metadata": {},
          "output_type": "execute_result"
        }
      ],
      "source": [
        "sum(np.concatenate(mu_vector.to_numpy()) * w)"
      ]
    },
    {
      "cell_type": "code",
      "execution_count": 19,
      "metadata": {
        "colab": {
          "base_uri": "https://localhost:8080/"
        },
        "id": "j_YMUQATtHU7",
        "outputId": "b35a96be-9281-4bf5-fb25-169ac1f36bee"
      },
      "outputs": [
        {
          "data": {
            "text/plain": [
              "0.2613376713489267"
            ]
          },
          "execution_count": 19,
          "metadata": {},
          "output_type": "execute_result"
        }
      ],
      "source": [
        "sum(np.concatenate(mu_vector.to_numpy()) * w_em)"
      ]
    },
    {
      "attachments": {},
      "cell_type": "markdown",
      "metadata": {
        "id": "CfWKYsnDtJ2_"
      },
      "source": [
        "Ha! Higher return for the emissions-corrected portfolio.  \n",
        "However, this comes with higher risk... "
      ]
    },
    {
      "cell_type": "code",
      "execution_count": 20,
      "metadata": {
        "colab": {
          "base_uri": "https://localhost:8080/"
        },
        "id": "T_44wkeqtQKg",
        "outputId": "73aa5010-6924-4d7d-d094-5d6816b463ae"
      },
      "outputs": [
        {
          "data": {
            "text/plain": [
              "0.014429149907657908"
            ]
          },
          "execution_count": 20,
          "metadata": {},
          "output_type": "execute_result"
        }
      ],
      "source": [
        "np.dot(np.transpose(w),np.dot(Cov_mat, w))"
      ]
    },
    {
      "cell_type": "code",
      "execution_count": 21,
      "metadata": {
        "colab": {
          "base_uri": "https://localhost:8080/"
        },
        "id": "gNyfdcumtrMA",
        "outputId": "c08b0a25-8f8b-4808-c35d-6242ed642785"
      },
      "outputs": [
        {
          "data": {
            "text/plain": [
              "0.02041862076383404"
            ]
          },
          "execution_count": 21,
          "metadata": {},
          "output_type": "execute_result"
        }
      ],
      "source": [
        "np.dot(np.transpose(w_em),np.dot(Cov_mat, w_em))"
      ]
    },
    {
      "attachments": {},
      "cell_type": "markdown",
      "metadata": {
        "id": "qbVpvVMKt6q5"
      },
      "source": [
        "For a review on the relationship between ESG criteria and financial performance, we point to [this paper](https://papers.ssrn.com/sol3/papers.cfm?abstract_id=3715753)."
      ]
    },
    {
      "attachments": {},
      "cell_type": "markdown",
      "metadata": {
        "id": "gqkHeQDoM6pK"
      },
      "source": [
        "## Out-of-sample analysis"
      ]
    },
    {
      "attachments": {},
      "cell_type": "markdown",
      "metadata": {
        "id": "WLFhNKY1RTrW"
      },
      "source": [
        "In practice, investors don't know what returns will be like.   \n",
        "Thus, we split the sample in two: before 2017, and after.   \n",
        "The investor calibrates the model on the past data & invests subsequently.  \n",
        "Let's compare the difference in returns between these two periods. "
      ]
    },
    {
      "cell_type": "code",
      "execution_count": 22,
      "metadata": {
        "id": "XokKWzN6NCp7"
      },
      "outputs": [],
      "source": [
        "mu_vector_in = data.query('Year < 2017').pivot_table(index = 'Company', values = 'Return', aggfunc = 'mean')\n",
        "mu_vector_out = data.query('Year >= 2017').pivot_table(index = 'Company', values = 'Return', aggfunc = 'mean')"
      ]
    },
    {
      "cell_type": "code",
      "execution_count": 23,
      "metadata": {
        "colab": {
          "base_uri": "https://localhost:8080/",
          "height": 339
        },
        "id": "BkibahdaRCer",
        "outputId": "485e1500-2dd2-4ce8-86e0-ff3e9476c526"
      },
      "outputs": [
        {
          "data": {
            "image/png": "[encoded data removed]",
            "text/plain": [
              "<Figure size 1800x500 with 1 Axes>"
            ]
          },
          "metadata": {},
          "output_type": "display_data"
        }
      ],
      "source": [
        "sns.barplot(data = pd.DataFrame({'Company' : data['Company'].unique(),\n",
        "                                 'mu' : mu_vector_in['Return']}),\n",
        "            x = 'Company', y = 'mu')\n",
        "sns.set(rc={'figure.figsize':(18,5)})"
      ]
    },
    {
      "cell_type": "code",
      "execution_count": 24,
      "metadata": {
        "colab": {
          "base_uri": "https://localhost:8080/",
          "height": 339
        },
        "id": "8KA7k228ROuI",
        "outputId": "69abdde0-c9aa-4062-cc5f-34f879a0a09c"
      },
      "outputs": [
        {
          "data": {
            "image/png": "[encoded data removed]",
            "text/plain": [
              "<Figure size 1800x500 with 1 Axes>"
            ]
          },
          "metadata": {},
          "output_type": "display_data"
        }
      ],
      "source": [
        "sns.barplot(data = pd.DataFrame({'Company' : data['Company'].unique(),\n",
        "                                 'mu' : mu_vector_out['Return']}),\n",
        "            x = 'Company', y = 'mu')\n",
        "sns.set(rc={'figure.figsize':(18,5)})"
      ]
    },
    {
      "attachments": {},
      "cell_type": "markdown",
      "metadata": {
        "id": "h3NVAZYyR1Sk"
      },
      "source": [
        "Exxon and General Electric have suffered in the recent period.  \n",
        "We also need the covariance matrices."
      ]
    },
    {
      "cell_type": "code",
      "execution_count": 25,
      "metadata": {
        "id": "fyDvuFRwR8pp"
      },
      "outputs": [],
      "source": [
        "Cov_mat_in = data.query('Year < 2017').pivot(index = 'Year', columns = 'Company', values = 'Return').fillna(0).cov().reset_index(drop=True)\n",
        "Cov_mat_out = data.query('Year >= 2017').pivot(index = 'Year', columns = 'Company', values = 'Return').fillna(0).cov().reset_index(drop=True)"
      ]
    },
    {
      "attachments": {},
      "cell_type": "markdown",
      "metadata": {
        "id": "LyBv82YZr8vP"
      },
      "source": [
        "So then we can compute the **true** performance. \n",
        "But first, the weights."
      ]
    },
    {
      "cell_type": "code",
      "execution_count": 26,
      "metadata": {
        "id": "wA_NkmOgsJ33"
      },
      "outputs": [],
      "source": [
        "w = np.dot(inv(Cov_mat_in.to_numpy() + 0.1*np.identity(30)),          # We use shrinkage because the matrix is singular\n",
        "              np.concatenate(mu_vector_in.to_numpy()))                # No emissions here! \n",
        "w = w / sum(w)\n",
        "w\n",
        "\n",
        "w_em = np.dot(inv(Cov_mat_in.to_numpy() + 0.1*np.identity(30)),          # We use shrinkage because the matrix is singular\n",
        "              np.concatenate(mu_vector_in.to_numpy())- 0.4 * emissions)  # We remove emissions! \n",
        "w_em = w_em / sum(w_em)"
      ]
    },
    {
      "attachments": {},
      "cell_type": "markdown",
      "metadata": {
        "id": "OrPBJO31tCKw"
      },
      "source": [
        "Then, realized returns.  \n",
        "For the initial strategy..."
      ]
    },
    {
      "cell_type": "code",
      "execution_count": 27,
      "metadata": {
        "colab": {
          "base_uri": "https://localhost:8080/"
        },
        "id": "h6Iecqb8tEHB",
        "outputId": "2b333c44-4712-46a8-f96d-3c46ac2d532d"
      },
      "outputs": [
        {
          "data": {
            "text/plain": [
              "0.19717666418666774"
            ]
          },
          "execution_count": 27,
          "metadata": {},
          "output_type": "execute_result"
        }
      ],
      "source": [
        "sum(np.concatenate(mu_vector_out.to_numpy()) * w)"
      ]
    },
    {
      "attachments": {},
      "cell_type": "markdown",
      "metadata": {
        "id": "-Z9u_ANitLPi"
      },
      "source": [
        "And when adding emissions constraints."
      ]
    },
    {
      "cell_type": "code",
      "execution_count": 28,
      "metadata": {
        "colab": {
          "base_uri": "https://localhost:8080/"
        },
        "id": "ppNe1UtBtHkK",
        "outputId": "067eb0ab-1e44-4980-cd88-f84af3e8853f"
      },
      "outputs": [
        {
          "data": {
            "text/plain": [
              "0.29044221887872923"
            ]
          },
          "execution_count": 28,
          "metadata": {},
          "output_type": "execute_result"
        }
      ],
      "source": [
        "sum(np.concatenate(mu_vector_out.to_numpy()) * w_em)"
      ]
    },
    {
      "attachments": {},
      "cell_type": "markdown",
      "metadata": {
        "id": "ccWJQ1LPtU-2"
      },
      "source": [
        "WOW! Though this must be taken with caution...\n",
        "Now risk."
      ]
    },
    {
      "cell_type": "code",
      "execution_count": 29,
      "metadata": {
        "colab": {
          "base_uri": "https://localhost:8080/"
        },
        "id": "bvwOl5XLteFk",
        "outputId": "3c238f0e-105e-4192-f30d-e3b7a9019acf"
      },
      "outputs": [
        {
          "data": {
            "text/plain": [
              "0.017051884816148527"
            ]
          },
          "execution_count": 29,
          "metadata": {},
          "output_type": "execute_result"
        }
      ],
      "source": [
        "np.dot(np.transpose(w),np.dot(Cov_mat_out, w))"
      ]
    },
    {
      "cell_type": "code",
      "execution_count": 30,
      "metadata": {
        "colab": {
          "base_uri": "https://localhost:8080/"
        },
        "id": "ZxpVWkP7tjKE",
        "outputId": "b982f4ec-467d-4282-bbe1-1d3ad1c9ccb1"
      },
      "outputs": [
        {
          "data": {
            "text/plain": [
              "0.02415675233208601"
            ]
          },
          "execution_count": 30,
          "metadata": {},
          "output_type": "execute_result"
        }
      ],
      "source": [
        "np.dot(np.transpose(w_em),np.dot(Cov_mat_out, w_em))"
      ]
    },
    {
      "attachments": {},
      "cell_type": "markdown",
      "metadata": {
        "id": "j6gAlz71tpkB"
      },
      "source": [
        "Thus, higher returns come with higer volatility!\n",
        "Let's see the net effect by computing the (Sharpe) ratio."
      ]
    },
    {
      "cell_type": "code",
      "execution_count": 31,
      "metadata": {
        "colab": {
          "base_uri": "https://localhost:8080/"
        },
        "id": "XsuoyZDLtx4i",
        "outputId": "f5065f2d-fea9-480c-fb83-95020800f6f0"
      },
      "outputs": [
        {
          "data": {
            "text/plain": [
              "1.5099734802090383"
            ]
          },
          "execution_count": 31,
          "metadata": {},
          "output_type": "execute_result"
        }
      ],
      "source": [
        "sum(np.concatenate(mu_vector_out.to_numpy()) * w) / math.sqrt(np.dot(np.transpose(w),np.dot(Cov_mat_out, w)))"
      ]
    },
    {
      "cell_type": "code",
      "execution_count": 32,
      "metadata": {
        "colab": {
          "base_uri": "https://localhost:8080/"
        },
        "id": "Dxcd1RbhuLrA",
        "outputId": "9e57e6fe-3e3d-4fe5-dbb5-f538c56075d7"
      },
      "outputs": [
        {
          "data": {
            "text/plain": [
              "1.86870381666538"
            ]
          },
          "execution_count": 32,
          "metadata": {},
          "output_type": "execute_result"
        }
      ],
      "source": [
        "sum(np.concatenate(mu_vector_out.to_numpy()) * w_em) / math.sqrt(np.dot(np.transpose(w_em),np.dot(Cov_mat_out, w_em)))"
      ]
    },
    {
      "attachments": {},
      "cell_type": "markdown",
      "metadata": {
        "id": "syL0tccuuTTy"
      },
      "source": [
        "Still, the environmentally friendly allocation is better."
      ]
    }
  ],
  "metadata": {
    "colab": {
      "authorship_tag": "ABX9TyO6x5AzFZgDcnt2GnlOkVtz",
      "collapsed_sections": [],
      "include_colab_link": true,
      "name": "carbon_portfolios.ipynb",
      "provenance": []
    },
    "kernelspec": {
      "display_name": "Python 3",
      "name": "python3"
    },
    "language_info": {
      "codemirror_mode": {
        "name": "ipython",
        "version": 3
      },
      "file_extension": ".py",
      "mimetype": "text/x-python",
      "name": "python",
      "nbconvert_exporter": "python",
      "pygments_lexer": "ipython3",
      "version": "3.9.16"
    }
  },
  "nbformat": 4,
  "nbformat_minor": 0
}
